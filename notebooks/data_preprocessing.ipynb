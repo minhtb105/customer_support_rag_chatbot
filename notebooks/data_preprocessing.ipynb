{
 "cells": [
  {
   "cell_type": "code",
   "execution_count": null,
   "id": "0c135dab",
   "metadata": {},
   "outputs": [],
   "source": [
    "import re\n",
    "import unicodedata\n",
    "import pandas as pd\n",
    "from typing import List"
   ]
  },
  {
   "cell_type": "code",
   "execution_count": null,
   "id": "b07fe914",
   "metadata": {},
   "outputs": [
    {
     "data": {
      "application/vnd.microsoft.datawrangler.viewer.v0+json": {
       "columns": [
        {
         "name": "index",
         "rawType": "int64",
         "type": "integer"
        },
        {
         "name": "instruction",
         "rawType": "object",
         "type": "string"
        },
        {
         "name": "input",
         "rawType": "object",
         "type": "string"
        },
        {
         "name": "output",
         "rawType": "object",
         "type": "string"
        }
       ],
       "ref": "558ca7e6-d1c3-411a-b846-eeb730e6765a",
       "rows": [
        [
         "0",
         "If you are a doctor, please answer the medical questions based on the patient's description.",
         "I woke up this morning feeling the whole room is spinning when i was sitting down. I went to the bathroom walking unsteadily, as i tried to focus i feel nauseous. I try to vomit but it wont come out.. After taking panadol and sleep for few hours, i still feel the same.. By the way, if i lay down or sit down, my head do not spin, only when i want to move around then i feel the whole world is spinning.. And it is normal stomach discomfort at the same time? Earlier after i relieved myself, the spinning lessen so i am not sure whether its connected or coincidences.. Thank you doc!",
         "Hi, Thank you for posting your query. The most likely cause for your symptoms is benign paroxysmal positional vertigo (BPPV), a type of peripheral vertigo. In this condition, the most common symptom is dizziness or giddiness, which is made worse with movements. Accompanying nausea and vomiting are common. The condition is due to problem in the ear, and improves in a few days on own. Betahistine tablets would help relieve your symptoms. Doing vestibular rehabilitation or adaptation exercises would prevent the recurrence of these symptoms. An ENT evaluation would also help. I hope it helps. Best wishes, Chat Doctor. "
        ],
        [
         "1",
         "If you are a doctor, please answer the medical questions based on the patient's description.",
         "My baby has been pooing 5-6 times a day for a week. In the last few days it has increased to 7 and they are very watery with green stringy bits in them. He does not seem unwell i.e no temperature and still eating. He now has a very bad nappy rash from the pooing ...help!",
         "Hi... Thank you for consulting in Chat Doctor. It seems your kid is having viral diarrhea. Once it starts it will take 5-7 days to completely get better. Unless the kids having low urine output or very dull or excessively sleepy or blood in motion or green bilious vomiting...you need not worry. There is no need to use antibiotics unless there is blood in the motion. Antibiotics might worsen if unnecessarily used causing antibiotic associated diarrhea. I suggest you use zinc supplements (Z&D Chat Doctor. "
        ],
        [
         "2",
         "If you are a doctor, please answer the medical questions based on the patient's description.",
         "Hello, My husband is taking Oxycodone due to a broken leg/surgery. He has been taking this pain medication for one month. We are trying to conceive our second baby. Will this medication afect the fetus? Or the health of the baby? Or can it bring birth defects? Thank you.",
         "Hello, and I hope I can help you today.First, there is no medication that can be taken by the father that has any way to get into your system or a baby if you conceive.  Medications can only affect a fetus if you take it while pregnant. The only issue is that certain medications may decrease a men sperm count and affect fertility, however pain medications like Oxycodone do not have this effect. So there is no reason for you to worry about conceiving while taking this medication.  The best way you can prepare for a healthy pregnancy is to follow a well-balanced diet, limit alcohol consumption and avoid cigarette smoke, and take a daily prenatal vitamin or folic acid, as folic acid supplements in early pregnancy helps to prevent certain types of birth defects. I hope this answers your question and best wishes for your upcoming pregnancy,"
        ],
        [
         "3",
         "If you are a doctor, please answer the medical questions based on the patient's description.",
         "lump under left nipple and stomach pain (male) Hi,I have recently noticed a few weeks ago a lump under my nipple, it hurts to touch and is about the size of a quarter. Also I have bern experiencing stomach pains that prevent me from eating. I immediatly feel full and have extreme pain. Please help",
         "HI. You have two different problems. The lump under the nipple should be removed, biopsied. This will help you to get rid of the disease, and you get a diagnosis. Second problem looks a bit serious one: Pain that prevents you from eating-immediate fullness, and extreme pain. I would advise such a patient to undergo the upper GI endoscopy asap. This can be an ulcer with a problem at the pylorus. The exact diagnosis is the most important to start the right therapy. Do not waste time in starting the therapy."
        ],
        [
         "4",
         "If you are a doctor, please answer the medical questions based on the patient's description.",
         "I have a 5 month old baby who is very congested with a terrible cough. Its rattly/raspy and croupy sounding cough. She started choking on her coughs and the mucous that has come up. She also has a fever and runny nose. Should i take her to urgent care?",
         "Thank you for using Chat Doctor. I would suggest that you see your doctor. Your baby maybe having bronchiolitis which is a lung infection common to your kids age. It is commonly caused by a virus. Albuterol via nebulization should be utilized in order to alleviate the wheezing and also help with the congestion. A decongestant can also be used for the colds. Also, it would also advise doing a chest X-ray in order to rule out other diseases (ex. pneumonia)sincerely, Mark RosarioGeneral pediatrics/Pediatric Pulmonology"
        ],
        [
         "5",
         "If you are a doctor, please answer the medical questions based on the patient's description.",
         "I am F 38 in good shape work out (do triathlons) regular but have had back pain from different reasons throughout my life now I every so often wake up with severe lower back, hip pain for no reason. today the pain is almost taking my breathe away when i move. It is a dull pain when i am just lying down but the moment I make any sort of movement I have sharp and sometimes shooting pain down my legs.",
         "Hi, From history it seems that you might be having degenerative changes in your lower back spines giving pinched nerve pressure. There might be having osteomalacia or osteoporosis as well. Go for x-ray lumbosacral region for osteoarthritis. Physiotherapy like back extension exercises will be much helpful. Take B1, B6, B!2 shots or medicine. Take calcium, vitamin A and D supplements. Ok and take care."
        ],
        [
         "6",
         "If you are a doctor, please answer the medical questions based on the patient's description.",
         "sir, MY uncle has ILD-Interstitial Lung disease.from my research over google i found that the cause is important to be known. the cause wat i feel is due to breakage of acid bottle in bathroom which caused lot of smoke and that time he wasnot able to be normal for 15-20 minutes. then he was normal .may be that would have been the reason for this ILD. Please suggest wat we should do",
         "Thanks for your question on Chat Doctor. I can understand your concern. OLD (interstitial lung disease) can not be caused by single exposure of any chemical. Chronic exposure (for years) of chemicals can cause OLD. It is not possible to find out cause for each and every OLD patient. Some patients can develop OLD just because of aging (old age). So your uncle is not having OLD due to breakage of acid bottle. He might be having age related OLD. Better to start Perfinodone and N acetyl cysteine (NAC) for OLD rather than searching for cause. Hope I have solved your query. I will be happy to help you further. Wishing good health to your uncle. Thanks."
        ],
        [
         "7",
         "If you are a doctor, please answer the medical questions based on the patient's description.",
         "my husband was working on a project in the house and all of a sudden a bump about the size of a half dollar appeard on his left leg inside below the knee. He is 69 years old and had triple by pass surgery 7 years ago. It stung when it first happened. Doesn t hurt now. He is seated with his leg ellevated. Is this an emergency?",
         "Hello. It could be a blood collection due to minor injury or a vein rupture which is also common at this age. It is not an emergency, but you should apply compression bandage and warm compresses if six hours have past. Furthermore, it should get relieved over the next few days but if it continues to increase or persist then you should see a Doctor who can examine the patient. Take care.  Chat Doctor. "
        ],
        [
         "8",
         "If you are a doctor, please answer the medical questions based on the patient's description.",
         "hi my nine year old son had a cough and flu symptons three months ago and the chesty sounding cough and green phlegm still remains. it did seem to get better but never totally went and has now picked up again...he has only ever had antibiotics once in his live which suggests he his generally fitand well and active...never short of breath or weezy...so why would this be....",
         "Hi, If the symptoms persist that long this suggests the presence of an allergic element. To treat that kind of allergy you can give him an over the counter antihistamines once daily before going to bed. A cough suppressant as dextromethorphan and an expectorant as Murine will help reduce the cough. Make sure he Chat Doctor.  If the green phlegm persists he might require an antibiotic. Hope I have answered your query. Let me know if I can assist you further. "
        ],
        [
         "9",
         "If you are a doctor, please answer the medical questions based on the patient's description.",
         "gyno problemsfor the past few months, I have been having issues with my vagina. there always seems to be something wrong with me. its either an infection or a yeast infection from the medication used to treat the previous infection or a herpes outbreak as a result of a yeast infection. most recently, I had a uti. I was treated for that and everything seemed fine, until after I finished the medication. it still hurt when I had sex and still is uncomfortable to pee. I dont know whats going on and this has been going on for months.",
         "Dear Friend. Welcome to Chat Doctor. I am Chat Doctor. I understand your concern. Recurring yeast / final infection occur due to:1. Improper treatment.2. Inadequate treatment3. Wrong diagnosis.4. Not treating the partner. I would advise you to get a Urine examination done for bacteria and fungus. When the reports are available, get treated. Also, treat your partner. This is my personal opinion for you based on available details. If you have any further query please ask me. Stay HealthyChatDoctor, MD"
        ],
        [
         "10",
         "If you are a doctor, please answer the medical questions based on the patient's description.",
         "I have found that I have an allergy to leotensin. They have taken me off of everything....I found in the information that one side effect if the red skin lensions with a purple center. I was looking to see if there was anything I could do to help the spots go away. I am a dental hygienist and I will be working the next two days. Is there anything that would cover them, so the patients would not be aware???",
         "Cellophane You for contacting Chat Doctor. Allergic reaction takes some time to settle. In the meanwhile you can cover it over the body by wearing appropriate long clothes which can cover most of the body to hide it. If itching occurs then you can take cetirizine once daily to prevent itching. Hope this answers your question. If you have additional questions or follow-up questions then please do not hesitate in writing to us. Wishing you good health."
        ],
        [
         "11",
         "If you are a doctor, please answer the medical questions based on the patient's description.",
         "Hi my name is Wendy I ve been having an issue for the last couple of months or so I been having severe pain in my lower back around the front into the groin area and its radiating down my thigh and so on I am currently a cancer patient nobody seems to be able to tell me what it could be the pain is so bad that it brings tears to my eyes would you possibly know what it could be or might be",
         "HelloThanks for query. You have not mentioned in your query details regarding cancer you are suffering from. The pain in back radiating down to thigh can be mostly due to metastasis in the spines or in to lymph nodes, You need to consult your treating oncologist and get evaluated by doing C. T scan of abdomen and pelvis and Bone scan. Further treatment will depend upon result of these tests and final diagnosis. Chat Doctor. "
        ],
        [
         "12",
         "If you are a doctor, please answer the medical questions based on the patient's description.",
         "hye, My aunt is having shortness of breath and she is on vent now. Her breast showed some kind of infection that apparently turned out to have black blisters. I could she those spreading. When we went for lungs x-ray doctor said she has accumulation of water in her lungs",
         "Thanks for your question on Chat Doctor. I can understand your aunts situation and problem. By your history and description, possibility of bacterial infection especially staphylococcus is more in her case. She is having pleural effusion and infective skin lesions on breast. Staphylococcus can cause pleural effusion and blister formation on skin. So chances of staphylococcal infection is more in her case. Better to send pleural fluid culture and sensitivity for the diagnosis of staphylococcal infection. This will also tell about effective antibiotic therapy. With appropriate antibiotics and Care, this infection can be treated. Hope I have solved your query. Wishing good health to your aunt. Thanks."
        ],
        [
         "13",
         "If you are a doctor, please answer the medical questions based on the patient's description.",
         "i am 28 yrs old, i got married before 6 year, i was infected by pulmonary tuberculosis before 6 years, i took treatment for 6 months after that i statred gainig weigt, my periods was irredulat, i increased nearlt 20 kgs after that, now my weight is 75 kgs, i trying to conceive, i took tsh, other blood test too, but everything is normal, do i have the chances to conceive",
         "Hi, thank you for asking Chat Doctor I understand your concerns No need to worry so much. The chances of conceiving still exist with irregular periods. I don't know if you have been trying to conceive but to no avail. If that is the case, then I think both of you have to be assessed. Infertility within a couple can be linked to a man, woman or both. If everything is fine with you except irregular periods, then I would advise that both of you should see a doctor for assessment and counseling. I hope that helps wish you well"
        ],
        [
         "14",
         "If you are a doctor, please answer the medical questions based on the patient's description.",
         "I sprained my foot on Friday. I stepped on what I thought was lawn. Instead I was a bit on the lawn, but the outside of my foot snapped down into a trough. My foot has been swollen since Friday. Today is Thursday. Kept ice on it for 24 hours. Bruising started after that, Now bruising is spreading. It is really dark on my toes. Pain is on outside of my foot, not on my ankle.",
         "Hello, You have sustained twisting injury to foot which may lead to sprain or minor fracture in foot bones. Diagnosis needs to be confirmed by doing x-ray of the involved foot anteroposterior and oblique views to rule out bony abnormalities. If x-ray is normal RICE therapy is needed which means Rest Ice application Compression bandage and Limb Elevation. Tab Diclofenac sodium twice a day for pain relief and tab Choral forte twice a day for swelling reduction is required. If x-ray shows fracture Below knee slab may be given. If X-ray is abnormal please consult orthopedic surgeon nearby your area.  Hope I have answered your query. Let me know if I can assist you further."
        ],
        [
         "15",
         "If you are a doctor, please answer the medical questions based on the patient's description.",
         "hi, i have been recently diagnosed with H pylori.. i have been give the triple treatment of calithramycin, amoxxicilin and omeprazole.. is dis something very serious and does this have some long term implications etc.can u plz give some detailed information about Hpylori. thnx",
         "HiT hanks for choosing Chat Doctor for your query. I appreciate your concern towards H pylori infection which normally causes break in the lining of the stomach (peptic ulcer). H pylori is an exceptional bacterium which can survive in the acidic environment of the stomach producing tissue damage result in ulcer. Since this is a bacterial infection, hence antibiotics are used for 2 weeks to kill H pylori. Along with antibiotics Omeprazole is given for a period of 4-6 weeks to suppress the acid production and to increase the healing process of the ulcer. It is not a serious condition, usually triple treatment is sufficient to cure this condition. You must avoid taking Alcohol, hot and spicy foods, NSAID painkiller, smoking, caffeine, carbonated sweetened soft Chat Doctor. I hope all your doubts have been clarified in a simple language,Feedback in this regard is highly appreciated. Take care"
        ],
        [
         "16",
         "If you are a doctor, please answer the medical questions based on the patient's description.",
         "I had a alt reading about 2+ months ago of 43 then retested today and got a 60 alt reading my other readings came back normal should I be concerned?Im 40 years 5ft 3 and weigh 192albs have a history of chronic vertigo and insomnia, and chronic sinus problems. I take valium 5 mg 4 times a day, fluticansone 2 puffs each nose once a day, qvair two puffs twice a day to prevent weasing, claritin for allergies, and I do sinus rinses as needed. I am female.My doctor says none of the medicine has liver side effects, and I dont drink alcohol but a sip on the rare occasion. He thinks it could be do my weight and Im working on this with gradual exercise when Im able too. Should I be worried with this test result? I had one other result that was high my triglcyerides read 198 ? WWW.WWWW.WW",
         "Hello and thank you for asking Chat Doctor. I have read your report, and I understand your concerns. First I would say to not worry. Normal Alt levels are 7 to 56 unit (depending on from the kits that laboratories use)In one of your tests, your Alt was 60. This level is almost normal and it doesn't always mean a serious condition of your liver. Here are some reasons why a healthy person might have changes in the levels of liver enzymes:-alcohol-exercise -some medications like aspirin, paracetamol,antibiotics, Cholesterol lowering Chat Doctor. "
        ],
        [
         "17",
         "If you are a doctor, please answer the medical questions based on the patient's description.",
         "i had surgery done 5 months ago for scar tissue and adhesion removal. my gynecologist just found a cyst on my right ovary. im still having problems, when my husband and i have sex i get severe cervical pain and afterward i get abdominal cramps severe enough i get light headed, also i get abdominal pain and rectal pain before and during a bowel movement, i also get abdominal pain during urination. im 26 years old. what could it be?",
         "Hi. Thanks for your query and an elucidated history. Understood the history well. You have an obvious reason for pain - the adhesions and scar must have reformed. But the history of Dyspareunia, meaning painful sex indicated the is some active inflammatory process still going on in the pelvis called PID-Pelvic Inflammatory Disease. Cystitis and Procto-colitis are the additional problems causing the pain in abdomen and rectum before and during bowel movements as also during urination. Ovarian cyst can cause problem only if it enlarges fast or gets twisted. I would advise you the following::-Contrast enhanced CT scan of the abdomen.-Enteroclysis-Colonoscopy-exploratory Laparoscopy or Laparotomy which will be of diagnostic and therapeutic value. A proper course of an antibiotic, metronidazole, probiotic may help a bit or more."
        ],
        [
         "18",
         "If you are a doctor, please answer the medical questions based on the patient's description.",
         "Hi, I had a subarachnoid bleed and coiling of brain aneurysm last year. I am having some major bilateral temple pain along with numbness that comes and goes in my left arm/hand/fingers. I have had headaches since the aneurysm, but this is different. Also, my moods have been horrible for the past few weeks.",
         "Aneurysm in brain causes headache due to compression of pain sensitive structure in brain. But pain is usually unilateral not bilateral. This pain will not radiate in both upper limb. Bilateral upper limb pain may be due to cervical spondylosis or other causes. You have anxiety of aneurysm, so due to anxiety your mood is horrible because aneurysm does not cause horrible mood change. So your headache may be chronic tension type headache. You may relieve by antianxiety Chat Doctor. "
        ],
        [
         "19",
         "If you are a doctor, please answer the medical questions based on the patient's description.",
         "Almost everytime I eat, it burns when I swallow. Not in my throat but in my chest. It burns all the way down. It helps a lil if I drink water after I swallow. I wake up a lot in the middle of the night with heartburn so I chew some tums and it helps for the most part. Why is it so painful when I eat?",
         "Thanks for your question on Chat Doctor. I can understand your concern. In my opinion, you are mostly having HERD (gastroesophageal reflux disease). It is due to laxity of gastroesophageal sphincter. Because of this the acid of the stomach tends to come up in the esophagus and cause burning in chest. So follow these steps for better symptomatic relief. 1. Avoid stress and tension. 2. Avoid hot and spicy food. Avoid junk food. Avoid large meals, instead take frequent small meals. 3. Take proton pump inhibitors and prokinetic Chat Doctor.  4. Keep 2 - 3 pillows under head in the bed to prevent reflux. 5. Quit smoking and alcohol if you have these habits. Lose weight if you are obese. Don't worry, you will be alright with all these. Hope I have solved your query. I will be happy to help you further. Wish you good health. Thanks."
        ],
        [
         "20",
         "If you are a doctor, please answer the medical questions based on the patient's description.",
         "for the pst  6 days  i have been haing  upper  abdome  distress ...  i have had gall bladder  surgery  2 yrs  ago ..in the past  2  yrs  when i get these bouts  .. i go to  emerg  they run cardiograms  xrays ,blood work ,all comes back normal  ...im stressing out  over this  as im  scared every time it happens  im having a heart  attack  wht is it  ?",
         "Hi. Thanks for your query, read and understood your problems. You are getting bouts of pain in the upper abdomen within the last 2 years particularly after the gall bladder surgery. This is great news that cardiac problems are ruled out by the tests every time in the emergency Room. This means that we have to find a local cause in the abdomen itself. I would suggest the following:Get Ct scan and MRCP for the hepato-biliary- pancreatic system. Also go for upper GI Endoscopy to rule out Gastric ulcer. Cancer. Colonoscopy for the possible problem of the colon in this area. If required a diagnostic Laparoscopy may help to see or rule out the intestinal adhesion due to bands or kinking or so and can be tackled at the same time. This way a final diagnosis and treatment plan can be done to get you permanent results."
        ],
        [
         "21",
         "If you are a doctor, please answer the medical questions based on the patient's description.",
         "I have a hole its about the size of a dime at the beggining of my butt crack (gross I know) but Im just wondering how to get rid of it at home I put anti bacterial on it with a q - tip it sizzles but nothing comes out or changes . What do I do ? (At home )",
         "**1. Opinion and examination with Surgeon is of utmost importance since hole around butt crack could be :1. Pilonidal dimple not transformed into sinus [beginning stage where pain/discharge is not there], so the best management which can be done at home is: keep the area clean and hygienic2. Do not use a cotton bud to scratch, clean or put into hole.3. It could be pressure sore due to prolonged sitting, or old infected boil which opened and left a big hole, thus Opinion/Examination is needed PS. Take care, not at home, but after surgical evaluation and exploration."
        ],
        [
         "22",
         "If you are a doctor, please answer the medical questions based on the patient's description.",
         "Dear Doctor, We are trying to have a baby and gave it a big try this time but as we are planning to go for an Invitro (ICSI) for the next period, my doctor gave me Primolut Not from day 16 to day 25. I am wondering if this will have a negative impact on my pregnancy if I am pregnant because as explained we gave it a big try this time. Thank you in advance for your response. With my Best Regards; Mme Sue",
         "Hellos you are going in for CSI next month, your doctor has given you Primal N for regulating the cycles. However, in case you have conceived this month, it is not advisable to take Primal N, as it causes virilization of female fetus and other abnormalities in the baby. There are other formulations of progesterone like Me Chat Doctor. These can be substituted for Primal - N. Please brief your IVF practitioner about the state of affairs and switch over to a safer "
        ],
        [
         "23",
         "If you are a doctor, please answer the medical questions based on the patient's description.",
         "Hello, I am in the middle of a serious anxiety/panic attack as I just became aware that I may have a tetanus infection. I am a senior at Clemson University and to be honest the apartment where I resided in the past four months was extremely unsanitary. One toilet was clogged for nearly two months which I now know could have bred bacterial spores that cause tetanus infections. I cut myself shaving around 1 1/2 months ago. I was out of razors and used a razor that had been sitting in the bathroom with the clogged up toilet I mentioned above. I did clean the razor with rubbing alcohol before use however I had an open wound on my face for a while.. About a week. For about a month now I have been feeling extremely irritable, experiencing lockjaw symptoms, been short of breath, had fevers on and off, heart palpitations, and I have noticed that when I smile my face contorts into what one would call a sardonic smile. Am I going to die? Please let me know your opinion",
         "Hello, Welcome to Chat Doctor, I have gone through your query and understand your concern. Tetanus is a bacterial disease by clostridium retain. There is no cure for tetanus, but it can be prevented by adequate vaccination. Usual symptoms are all due to painful contraction of muscles as it affects our nervous system. Spasms and stiffness in your jaw muscles, stiffness of your neck muscles, difficulty swallowing, stiffness of your abdominal muscles, painful body spasms lasting for several minutes, typically frittered by minor occurrences, such as a Chat Doctor. If you are not get immunized for tetanus, you should start tetanus toxic vaccination now itself. First 2 doses at 4 weeks apart. Third dose after 6 months. After that your immunity may stand up to 10 years. Thank you."
        ],
        [
         "24",
         "If you are a doctor, please answer the medical questions based on the patient's description.",
         "Hi hope you can helpive been getting chest pains, not severe but a constant pain, can happen when im just resting but has also happened when im exercising, it continues through to my back as well. I sometimes wake up with chest pains too. i have a strong history of heart disease. grandfather died at 26 from a heat attack and mother had one at 45, also grandmother on the other side had a heart attack. Could you please explain what is happening? Thanks",
         "HelloThanks for posting at Chat Doctor. You have not provided your age on the details. I would have been able to help u better had you mentioned your age. You have complaints of chest pain radiating to back with strong family history. So in your case it is better that we evaluate you for presence of heart disease. I recommend an ECG and 2d echo initially. If both these tests are normal you can proceed for a treadmill test which requires you to walk on a treadmill while your ECG is continuously monitored. This will show if the heart blood supply suffers while you are exercising which indirectly predicts whether you have blockages in your heart. Please do the above tests and revert. Wishing you good healthRegards."
        ],
        [
         "25",
         "If you are a doctor, please answer the medical questions based on the patient's description.",
         "Im 28 year old and suffering from male baldness pattern. I started using RICHFEEL tricology centres saw palmetto treatment but it didnt help, then I tried Minoxidil 5%  but discontinued it after 12 days after having some side effects (some tiny boils on my forehead). Kindly suggest me which medicine i should take.",
         "Hi, You may stop it for a few days. Take oral treatment like tab finasteride 1 mg daily with tab biotin 10 mg thrice a day. Cleanse the scalp with ketoconazole shampoo daily. After a few days you may restart the minoxidil. Tiny boils may be folliculitis. Take a course of antibiotic like cap Doxycycline. Avoid stress and worries. Continue treatment for long time to get good result in an Chat Doctor.  Hope I have answered your query. Let me know if I can assist you further.  "
        ],
        [
         "26",
         "If you are a doctor, please answer the medical questions based on the patient's description.",
         "I too fell and hurt my left side of my chest. I have a large lump and I am very black and blue. I need to fly out on Sunday this fall happen last Sunday. I have been taking aleve for pain and arnica gel. Should I be worried about the flight? I am 70 Thank you,",
         "Welcome to ChatDoctorYou may be having rib fractures. You have to do x-ray chest as early as possible. Rib fractures can cause pneumothorax/air in chest or hemothorax/blood in the chest which will be seen on x-ray. Only rib fractures needs no treatment except painkillers. But if pseudo or hemothorax is present that needs ICD tube insertion in the chest. In that case air travel should be avoided. Regards"
        ],
        [
         "27",
         "If you are a doctor, please answer the medical questions based on the patient's description.",
         "I have had a few small hard painless bumps where my cheek goes to my gums. this may sound terrible but they have been there, the same size & number for about a year if I remember correctly (scratch that, I just talked with a friend of mine & remebered they have been there for four years) & I have yet to tell my dentist about them. any thoughts? I am a 16 yr. old male & have used snuff habitually before, for only a few years but none the less.",
         "Taking snuff for a prolonged period is not known to cause cancer, but it may lead to a number of local infections. Also, such people have a number of vitamin deficiencies which may also lead to irregularities in the cheeks and gums. I would advise you to take an antibiotic and antifungal (Tab Ciprofloxacin 500 mg twice daily +Tab For can 150 mg twice daily) plus a multivitamin (Tab B-Complex twice daily), all for 15 days. If your bumps don't improve by then, you should consult a surgeon."
        ],
        [
         "28",
         "If you are a doctor, please answer the medical questions based on the patient's description.",
         "my mother is 80 yrs. detected with vulva cancer. vulva is swollen red ,around discolourisation, white growth now extending to rectum. biopsy shows keratinizing squamous carcinoma vulva(welldifferentiated,invasive).she is little asthmatic, has cervical spondeolytis .",
         "Hi, dairy have gone through your question. I can understand your concern. She has well differentiated keratinizing squamous cell carcinoma.  If her general health is good then treatment of choice is wide excision of carcinoma followed by chemotherapy or radiotherapy if needed. Consult your doctor and take treatment accordingly. Hope I have answered your question, if you have doubt then I will be happy to answer. Thanks for using Chat Doctor. Wish you a very good health."
        ],
        [
         "29",
         "If you are a doctor, please answer the medical questions based on the patient's description.",
         "Suddenly this morning I got really excruciating lower right back pain. I was standing in the kitchen and it came on suddenly. It s the lower right side. It does not go down in the my legs it s just isolated to my back. I have no nausea or no blood in my urine. Any idea on what it could be?",
         "Hello! Welcome to Chat Doctor ! Lower back pain may cause by right lumber disc prolapse whicChatDoctorpresses the nerve. But exact other causes are diagnosed by physical examination or by MRI. Common causes of lower backache and leg pain is a lumbar ruptured disc or herniated disc. Symptoms of a herniated disc may include dull or sharp pain, muscle spasm or cramping, sciatica, and leg weakness or loss of leg function. Sneezing, coughing, or bending usually intensify the pain. Rarely bowel or bladder control is lost, and if this occurs, seek medical attention at once. Sciatica is a symptom frequently associated with a lumbar herniated disc. Pressure on one or several nerves that contribute to the sciatic nerve can cause pain, burning, tingling, and numbness that extends from the buttock into the leg and sometimes into the foot. Usually one side (left or right) is affected. Take care "
        ],
        [
         "30",
         "If you are a doctor, please answer the medical questions based on the patient's description.",
         "Hey I am on my third antibiotic and still coughing and my ribs are killing me especially right side. Doc claims it is viral cough syndrome left over from bronchitis . I do not think so. No fever the whole time. Xray was clear on lungs. Taking mucinex, third antibiotic, inhaler and can not get better. Ulcers in mouth and my face in breaking out bad. Been sick since December 28,2012.",
         "Hi welcome to Chat Doctor forum. The reasons for persistent cough, without findings in the lungs might, Uveitis a growth at the end of the throat, by touching the pharynx cause severe cough. For this type of cough you need to use cough suppressants like dexametarphane, codeine, etc which are present in some cough syrups.  Best thing to get relief immediately is Darling with Luke warm salt water 2 or 3 times a day. Avoid taking fruits, juices, ice creams, ice water to Chat Doctor.  I advise you to consult an E.N.T.surgeon who is the doctor concerned with the causes in the pharynx.  Wishing for a quick and comfortable relief, and thanks for calling."
        ],
        [
         "31",
         "If you are a doctor, please answer the medical questions based on the patient's description.",
         "Hi My mrs has this heart murmur, which is causing the blackouts, and she has panic attacks. Yesterday the doctor was quite concerned at how her blood pressure was so high, and then a couple of weeks go when she had her smear, it was too low. She has now got this bruising appearing around her lower back too, and i don t know how its been caused. I m really worried about her. Is this seriouse?",
         "Hello, I would explain that a heart murmur could be related a structural heart abnormality.  For this reason, I would recommend performing a cardiac ultrasound and a resting ECG in order to examine her heart function and structure.  Considering her blackout attacks, I would recommend performing some tests too:- complete blood count for anemia,- thyroid hormone levels for thyroid gland dysfunction- blood electrolytes for possible imbalance.  An ambulatory 24-48 hours ECG monitoring would help examine her heart rhythm trends for a prolonged time and exclude possible cardiac arrhythmia.  Hope I have answered your query. Let me know if I can assist you further. "
        ],
        [
         "32",
         "If you are a doctor, please answer the medical questions based on the patient's description.",
         "I am on metformin 1000mg bid for pcos & was prescribed Percocet 10/650 for a severely displaced fracture needing surgery. I drink a glass of red wine nightly for heart heglth Bhc cardiac disease runs in my family... Should I be concerned a our elastase liver function test? I am also on Zoloft 150 daily, adderall 30mg bid & clonazepam as needed who I take a few night a a week",
         "Hi, dairy have gone through your question. I can understand your concern. You taken percent, clonazepam, Zoloft, Adderall so in my opinion you should avoid alcohol. It will damage the liver and will put you in trouble. You should check your liver enzymes levels once and also go for ultrasound abdomen once to rule out any alcoholic liver disease. Hope I have answered your question. If you have any doubts then feel free to ask me. I will be happy to answer. Thanks for using Chat Doctor. Wish you a very good health."
        ],
        [
         "33",
         "If you are a doctor, please answer the medical questions based on the patient's description.",
         "I stopped taking microgestin, mid-pack, on 12/5/13 after being on it for 2 1/2 months. I had withdrawal bleeding 12/9/13 - 12/13/13.I was supposed to get my period 1/5/14 but i am late. Before birth control my cycles were always regular and always 28-29 days. My boyfriend and i have been using the pullout method frequently before and after stopping the pill. Could i be pregnant?",
         "Hallow Dear, Since you are no more on the birth control pills now, you are no more having any contraceptive protection. Pull out technique is not a safe and reliable technique for contraception. In this method, the penis is pulled out of vagina before the ejaculation takes place. However, before ejaculation, pre-seminal or pre-ejaculatory secretions (pre-cum) are deposited in the vagina unknowingly. Pre-cum does contain some sperms which are capable of impregnating a woman. Now that you have missed your period, please get your pregnancy test done on overnight morning first urine sample a week after the missed period; earlier, the test may report false negative. Alternatively, you may perform Beta Chat Doctor test on the blood. This will help you detect your pregnancy status. If you are not pregnant, you may take some progestational preparation like Devilry for 5 days (with advice of a Gynecologist). Then within 4-7 days, you should get with Chat Doctor.  However, if you are pregnant, you may opt for medical termination of pregnancy. Since you are regularly engaged in sexual activity and do not want to continue with oral contraceptive pills, please adopt some other reliable contraceptive method like condom or intrauterine device. I hope this clarifies the issue. "
        ],
        [
         "34",
         "If you are a doctor, please answer the medical questions based on the patient's description.",
         "I am going through Jaundice due to Hepatitis E, my stomach has gone too much weak, at time a lot of acidity. I was in hospital for 5 days but now feeling much better then before and my Total bilirubin has come down to 5 and liver enzymes are around 1400. Body is too much fluctuating, at times i feel better and at times i feel pathetic. I am on complete rest, at times i walk around else not much of physical work. I am taking monolive but i can see Liv52 is more famous, should i change that?",
         "HelloThanks for asking query on HC. I presume that you have been diagnosed with acute hepatitis E based on the relevant tests. You must know that acute hepatitis E is a self limiting disease, only needs supportive care. You are correctly started on Mongolia (UCA), please continue that, no need to change to Liv 52. Furthermore, you may also require acid suppressing and antiemetic tablets like - Antacid DSR along with some vitamin supplements. Have good quality food with necessary proteins and vitamins. You will become normal in another weak. Mind you bilirubin is the last thing to normalize. So don't worry about that. Alarm signs which one should keep in mind are - excessive sleepiness, bleeding manifestations and inability to eat anything. Take care."
        ],
        [
         "35",
         "If you are a doctor, please answer the medical questions based on the patient's description.",
         "My family has recently gotten the scabies mite... WE have cleaned our house top to bott om with hot soapy water, Rid, Used a cleaner on carpet/couch. we treated ourselfs with Permethern cream, Eurax, and i have used tea tree oils, poroxide, etc. Everyone but me and a older son has kicked it. I have went as far as sanding my skin....My question is what do I do to rid it once and for all SAFETLY! I was told Borax in a tub ....is that safe? HELP",
         "Hi and thank you so much for this query. Can be very disturbing to get your entire household infested by scabies. Hygiene is the rule. Treating every sick person, washing and disinfection all linen as well as ironing would ensure that this bug is gotten rid of. So step up your personal hygiene after treating every affected individual and disinfecting all linen. I hope this ad Chat Doctor.  Feel free t ask for more information if needed. Thanks for using this panel for your questions."
        ],
        [
         "36",
         "If you are a doctor, please answer the medical questions based on the patient's description.",
         "Hi, didn t expect to get a real person, but since your are here, I will tell you about symptoms I have been having. I think they are panic or anxiety attacks, but who knows. I get a tight feeling in the back of my head that moves to my temples then down into my throat and eventually down the middle of my chest. I get very emotional when this happens and after all that, I can t catch my breath and my heart beats really fast. It usually goes away in 2 or 3 minutes, if I can sit down and concentrate on my breathing. I recently had an MRI and my heart was found to be OK......any ideas????",
         "Degree understand your concerns went through your details. I suggest you not to worry much.  You are mistaken. We are human beings and are here to answer your queries. You can expect answer from a real person here. In anxiety attacks, obsession with a thought brings anxiety symptoms and then comes emotions. Before the symptoms comes, there is always apprehension. Anxiety attack or panic attack is always an after effect of anxiety. What is your reason for anxiety? Any fear, stress, molestation, health related worries? Find out and you shall get the answer. The answer shall help cure your condition. If you require more of my help in this aspect, Please post a direct question to me in this website. Make sure that you include every minute details possible. I shall prescribe the needed psychotherapy techniques which should help you cure your condition further. Hope this answers your query. Available for further clarifications. Good luck."
        ],
        [
         "37",
         "If you are a doctor, please answer the medical questions based on the patient's description.",
         "I fell on uneven sidewalk on July 3rd and hurt my knee: I had no problem walking and I didn t have much pain just bruising on my knee with tenderness. Now as the bruising is entering the purple/green phase I am starting to get a lot of swelling in my calf and ankle- what should I do ??",
         "Welcome to Chat Doctor I have gone through your query and understand your concern. You're swelling of foot and calf may be related to edema after injury. It is useful to keep limb elevated. Active toe movement will be useful to reduce swelling. Analgesic such as ibuprofen is useful to get relief from pain. You can discuss with your doctor about it. Hope your query get answered. If you have any clarification then don't hesitate to write to us. I will be happy to help you. Wishing you a good health. Take care."
        ],
        [
         "38",
         "If you are a doctor, please answer the medical questions based on the patient's description.",
         "Dear doctor, i am 33 male recently i have undergone pre employment medical check up and it was found that i have sgpt- 194 except this all test are absolutely normal test includes 1) CBC2. ESR and liver test 3. Urine Routine 4. Blood Group & Rh Factor 5. X-ray (Chest)6. General Physical Examination7. Fasting Blood Sugar &Post Prandial Blood Sugar8. Total Cholesterol9. ECG10. Serum Creatininenow they have advised me to got my ultrasound done full abdomen. i have got it done today and every thing is normal and they found mild fatty liver. Another thing i want to share that i was suffering from loose motions and was on Ofloxacin-200mg with ornidazole500mg B.D dosage (oflox OZ )medication for 2days and continued ofloxacin-200 B.D dosage (oflox) for another 3days as was suffering cold and cough also.now i need to go to gastro doctor to get the ultrasound reports checked. Just want to know what could be the reason for this elevated SGPT and will i get the clearance for joining new company.what should i do to lower my SGPT levels?? and what diet i should follow i am not a heavy drinker just take drinks occasionally and i am not fond of junk food as well.",
         "Hello, I can understand your concern for abnormal blood report.1) Your symptom of loose motion might be due to indigestion. There is no role of antibiotic in this. Instead, you should take intestinal digestive enzyme supplementation.2) Elevated SGPT level indicate either liver function is weak or liver has too much load to work. Fatty liver is condition in which excessive fat get deposited in liver tissue and affect liver function. This is the reason for elevated SGPT level in your case.3) Fatty liver is due to high level of fat in blood stream secondary to lipid (fat)-rich diet. This might lead to elevated cholesterol level. Thus, it is recommended for you to undergo lipid profile test.4) Mild fatty liver is reversible condition. You should do - regular exercise, intermittent fasting (weekly once), high protein diet, low fat-diet, use of omega-3 fatty acid containing oil in food preparation, avoidance of alcohol intake. Your SGPT level can come to normal range with these measure in 15-20 days. Hope I answered your query. If you have any further question, I would be happy to help you. Have a nice day!"
        ],
        [
         "39",
         "If you are a doctor, please answer the medical questions based on the patient's description.",
         "Hello, My name is Wanda I am a 40year old female with type one diabetes (have had it for 7 years ) I have had a tooth infection in my gums for honestly on and off for about 2 years it swells up then bursts with yellowish clear pus above a tooth which needs to be pulled. I have felt like Ive had a sinus cold for the past few weeks and then discovered a sore on the inside of my left nostil.. could they be connected",
         "Hello Wanda and welcome. Thanks for sharing your concern. The roots of upper molars are in very proximity with the maxillary sinus above.Therefore, sometimes it becomes difficult to diagnose whether the patient presents pain due to tooth infection or sinusitis. But clinical evaluation with supporting x-rays makes it clear whether the origin of infection is teeth or sinus.Therefore, in my view please meet your dentist/ENT specialist for a sinus view x-ray. This will make things pretty clear.Meanwhile, do take good care of yourself.ET us know for further doubts. Thanks. Take care."
        ],
        [
         "40",
         "If you are a doctor, please answer the medical questions based on the patient's description.",
         "I had a partial root canal roughly 36 hours ago on my lower left rear molar (wisdom teeth extracted years ago).  The doctor drilled out the pulp (noting that it was mostly dead) and put on a temporary filling until the root canal specialist could see me.  Now, about 36 hours later, Im in quite a bit of pain again, both on the tooth that was operated on and in a molar on the top of my jaw and in the back jaw muscle.  My neck is rather swollen too and is tender to the touch.  I have plans to travel tomorrow by plane to see some family and go diving.  Is my condition something that requires immediate attention?  Should I not be flying or diving?",
         "Welcome to Chat Doctor forum. Dead pulp inside a root canal is almost always infected with several bacteria. Now, while removing those dead pulp/ remaining tissue or washing the root canal, there is every possibility that some part of that infected material pushed through the root apex foramen(hole) to the surrounding area. Naturally that area become infected and in many instances the infection expressed as an acute infection of root apex area with pain and may be with swelling. It is called ENDODONTIC FLARE UP. It may happen in 50% patients after the cleaning of root canal. The dentist has no control over it. There is no need of postponing your travel schedule. You should start an antibiotic like Augmenting or same type (Amoxicillin 500 mg + Clavulanic acid 125 mg) 8 hourly for 5 days. Along with that you have to take Diclofenac 100 mg + Paracetamol 500 mg, 3 times a day in full stomach. If you have a history of excessive acidity, you have to take 10 ml of any liquid antacid before taking Diclofenac.  Your pain will subside with in 2 to 3 days. But continue Antibiotic for 5 days. Best wishes."
        ],
        [
         "41",
         "If you are a doctor, please answer the medical questions based on the patient's description.",
         "My doctor had issue with finding the baby during my transvaginal ultrasound is that because I had to pee she could see the yoke sac and I measured 9 weeks but what she thought was the baby was measuring 7 weeks. I am just worried and want to know if that interfered",
         "Hello,First, do not panic. As you might be aware that yolk sac is a structure attached with an embryo-baby, for its nutrition in early pregnancy. The reason for not finding the baby and only finding the yolk sac can be small pregnancy duration may be due to delayed ovulation and delayed conception. I will suggest you get a repeat ultrasound done after two weeks. Please start on Folic acid and vitamin B 12 supplements. Option for a healthy diet and regular exercise regimen. Hope I have answered your query. Let me know if I can assist you further. "
        ],
        [
         "42",
         "If you are a doctor, please answer the medical questions based on the patient's description.",
         "I hit a volleyball this after with the underside if my hand (made a fist) it bent my wrist backward causing pain. Now about 7 hrs later it is still very painful to my hand backwards and all to put pressure on my wrist. These are fairly sharp pains. It does not hurt to pick things up or grip most objects. There is only pain when I move my hand. Thank you.",
         "Dear patient You must have injured wrist ligament due to extreme stretching while playing and this is leading to pain. Still possibility of fracture needs to be ruled out, and I would advise X-ray of involved wrist with hand anteroposterior and lateral views.  Visit radiology center nearby you and get it done. If report is normal diagnosis is wrist sprain.  Avoid game for 2 weeks and apply wrist binder for 3 weeks. Start tab diclofenac plus serratiopeptodase combination twice a day for 5 days for pain relief. If X-ray report is abnormal you need to consult expert orthopedic surgeon with report.  All the best."
        ],
        [
         "43",
         "If you are a doctor, please answer the medical questions based on the patient's description.",
         "I have a pacemaker, due to atrial fibrillation, and have been put on coumadin. It does not seem to thin my blood, and am on 750 mg a day, and it makes me nauseous and extremely dizzy, to the point where I can t function. Are there any foods that help thin the blood? Also, do fish oils help or hinder the thinning process? I would really like to take less medication and get results that are favorable.",
         "Hi, Green leafy vegetables like spinach, broccoli and food rich in vitamin K antagonize the effect of medicine. So these should be consumed in moderate amount, since we can't stop green vegetables altogether. And importantly, daily this intake should be kept constant otherwise effects may fluctuate.  Fish doesn't have significant effect on Chat Doctor. Hope I have answered your query. Let me know if I can assist you further. "
        ],
        [
         "44",
         "If you are a doctor, please answer the medical questions based on the patient's description.",
         "My younger brother liver & spleen got enlarged. Hepatitis B&C found in blood. Mild ascitis & SOL on both lube of liver found. His age is 15. Weight is 28 kg. He is having serious less appetite. I am attaching the all the reports. Please advice us how to proceed and the exact condition of the patient.Here two doctors said he will need a full liver transplantation...",
         "Hi thanks for contacting Chat Doctor ... Your brother have both hepatitis b and c positive.... Your brother might have chronic liver affection with it can be cirrhosis liver associated... Morever you are mentioning space occupying lesion in liver... It should be investigated for malignancy as chance of development of hepatocellular carcinoma more if both B and C hepatitis present... For that contrast enhanced CT scan with AFP estimation can be done... If needed for confirmation USG guided biopsy might be needed.... Ultimate treatment for chronic liver problem is liver transplantation... Your report attached cant seen here in public forum questions... For more opinion you can consult gastroenterologist .... You can take follow up advise by using premium questions...Meanwhile, take low fat diet... Fruits taken more... Green leafy vegetables useful.... Take early in morning grinned spinach and carrot juice.... Hope you concern solved.... Take care.... Chat Doctor. "
        ],
        [
         "45",
         "If you are a doctor, please answer the medical questions based on the patient's description.",
         "Hi Over the past 2 days I have had a sore jaw on the right side only. Doesn t feel sore on the outside of my face, but extremely tender on the tendon that attaches jaw together. Inside of cheek also appears swollen. Right side of tongue feels strange, and slightly sore to swallow also. I m 40 but my wisdom teeth never came in, could this be a cause?",
         "Hello, I can understand your concern. Usually, wisdom teetChatDoctore in mouth at the age of 18 to 25 years. However, as you have never had them in mouth, it is possible that they might be impacted or locked in the jaw. As right side of jaw is causing you pain, let us focus on that only. Due to absence of physical space to come out in mouth or due to its improper position, it might be possible that the wisdom tooth of that side was locked in the jaw all this time and now might be impinging on the muscle of the mastication or nerve that supplies tongue causing you the pain and discomfort you are experiencing. It is also a possibility that a tooth might be decayed on the side of the jaw that is causing you problems, has developed an abscess that is causing these symptoms. In both cases, you need to visit a dentist to get an oral examination to find out if any tooth is decayed and taking x-ray of the wisdom tooth area to diagnose wisdom tooth related problem. By the time you ET an appointment of the dentist, Ibuprofen 400 mg thrice a day will help you in getting relief from pain. Please refrain from hot water gargles or heat compression as if the pain would be abscess related, it would worsen. I hope this information helps you. Thank you for choosing Chat Doctor. I wish you feel better soon. Best,"
        ],
        [
         "46",
         "If you are a doctor, please answer the medical questions based on the patient's description.",
         "Hi, Can anyone give me the solution for Aplastic Anemia ? my 4 years old daughter suffering from Aplastic anemia since April 2010. Regards, Vinod",
         "Dear Vinod:Thanks for the query. There are different modalities. The treatments depend on severity of the problem. If it is less severe the immune-modulator medications-Antithymocyte globulin (ATG), cyclosporin (CSA), and cyclophosphamide are useful. She requires intermittent blood transfusions. If it is more severe, she needs Bone Marrow transplantation (BMT) from appropriate donor which is the definitive treatment. She needs conditioning before transplantation with ATG/cyclophosphamide so that the graft (BMT) will not be rejected. You can refer to the article in emedicine.medscape.com: This is the URL of article:http://emedicine.medscape.com/article/198759-overview.  "
        ],
        [
         "47",
         "If you are a doctor, please answer the medical questions based on the patient's description.",
         "I HAVE HAD SEVERAL TIAS BEFORE THE AGE OF 40 AND JUST RECENTLY I HAD DIFFICULTIES ORGANSIZING MY THOUGHTS AND THEN TRYINGTO SAYING WHAT WAS IN MY BRAIN HAPPENED APRIL 15 AND THEN THE NEXT DAY WHEN I ANSWERED THE PHONE WERE I VOLUNTEERED IT HAPPENED AGAIN; I COULD NOT SAY GOOD AFTERNOON SHIRLEY SPEAKING HOW MAY I HELP YOU. ANY SUGGESTIONS WHAT I WAS EXPERIENCING?",
         "Hi, Welcome to Chat Doctor .com I am Chat Doctor. Mariano Into Bruno Mascaras. I have gone through your query with diligence and would like you to know that I am here to help you. Q1 : ANY SUGGESTIONS WHAT I WAS EXPERIENCING? A1 : This is probably Multi Infarct DementiaFurther Course of Treatment depends on Clinical Examination, Funds Examination, MUSE, Radiological Evaluation. Please Consult a neurosurgeon in person Hope you found the answer helpful. If you need any clarification / have doubts / have additional questions / have follow-up questions, then please do not hesitate in asking again. I will be happy to answer your questions. In the future, for continuity of care, I encourage you to contact me directly in Chat Doctor at http://bit.ly/ask"
        ],
        [
         "48",
         "If you are a doctor, please answer the medical questions based on the patient's description.",
         "My son is 1 yr 8 months old...he is not walking on his own...so dr suggested MRI n MRI report shows .ventricular system appears mildly prominent,normal in shape position and signal morphology,cisternal and sulcal spaces are mildly prominent,small faint hyperintense areas noted in bilateral periventricular frontal and Pareto occipital regions.rests things are normal....pls tell me wat does it means",
         "Hi...though I do not have the images of the MRI before me right now, by what you quote, I feel it should be - Periventricular Leukoplakia - a condition which occurs in prematurely or underweight born babies. Their mentation and IQ will be perfect, but they will have problems with their legs and walking. Usually there won't be any problem with the hands. This condition is called - Spastic Diplopia and is amenable for physiotherapy. Please do not worry as the kid will get better with physiotherapy. Regards - "
        ],
        [
         "49",
         "If you are a doctor, please answer the medical questions based on the patient's description.",
         "Hi. My 18month old has had red and swollen eyes for about 5 days. I took him to his doctor and they have no idea what is wrong. His eye itself is unaffected. It seems to be isolated to the outside of the eye (eye lid, and beneath. Just last night he broke out in a rash all over his body. I need ANSWERS badly. Can you help?",
         "Hello. I'm a pediatrician. From your description I think he might be having present orbital cellulitis. In this condition soft tissue around eye is infected. Baby will be toxic and having high fever. Eyes may be swollen, it massive be difficult to open eye. Rash on rest body might be due to Chat Doctor.  Consult ophthalmologist and pediatrician. If it is really orbital cellulitis then baby might be needing admission"
        ]
       ],
       "shape": {
        "columns": 3,
        "rows": 200
       }
      },
      "text/html": [
       "<div>\n",
       "<style scoped>\n",
       "    .dataframe tbody tr th:only-of-type {\n",
       "        vertical-align: middle;\n",
       "    }\n",
       "\n",
       "    .dataframe tbody tr th {\n",
       "        vertical-align: top;\n",
       "    }\n",
       "\n",
       "    .dataframe thead th {\n",
       "        text-align: right;\n",
       "    }\n",
       "</style>\n",
       "<table border=\"1\" class=\"dataframe\">\n",
       "  <thead>\n",
       "    <tr style=\"text-align: right;\">\n",
       "      <th></th>\n",
       "      <th>instruction</th>\n",
       "      <th>input</th>\n",
       "      <th>output</th>\n",
       "    </tr>\n",
       "  </thead>\n",
       "  <tbody>\n",
       "    <tr>\n",
       "      <th>0</th>\n",
       "      <td>If you are a doctor, please answer the medical...</td>\n",
       "      <td>I woke up this morning feeling the whole room ...</td>\n",
       "      <td>Hi, Thank you for posting your query. The most...</td>\n",
       "    </tr>\n",
       "    <tr>\n",
       "      <th>1</th>\n",
       "      <td>If you are a doctor, please answer the medical...</td>\n",
       "      <td>My baby has been pooing 5-6 times a day for a ...</td>\n",
       "      <td>Hi... Thank you for consulting in Chat Doctor....</td>\n",
       "    </tr>\n",
       "    <tr>\n",
       "      <th>2</th>\n",
       "      <td>If you are a doctor, please answer the medical...</td>\n",
       "      <td>Hello, My husband is taking Oxycodone due to a...</td>\n",
       "      <td>Hello, and I hope I can help you today.First, ...</td>\n",
       "    </tr>\n",
       "    <tr>\n",
       "      <th>3</th>\n",
       "      <td>If you are a doctor, please answer the medical...</td>\n",
       "      <td>lump under left nipple and stomach pain (male)...</td>\n",
       "      <td>HI. You have two different problems. The lump ...</td>\n",
       "    </tr>\n",
       "    <tr>\n",
       "      <th>4</th>\n",
       "      <td>If you are a doctor, please answer the medical...</td>\n",
       "      <td>I have a 5 month old baby who is very congeste...</td>\n",
       "      <td>Thank you for using Chat Doctor. I would sugge...</td>\n",
       "    </tr>\n",
       "    <tr>\n",
       "      <th>...</th>\n",
       "      <td>...</td>\n",
       "      <td>...</td>\n",
       "      <td>...</td>\n",
       "    </tr>\n",
       "    <tr>\n",
       "      <th>195</th>\n",
       "      <td>If you are a doctor, please answer the medical...</td>\n",
       "      <td>i am taking glycomate sr igram at night before...</td>\n",
       "      <td>Hi Mr. Mira, As you have not mentioned the dur...</td>\n",
       "    </tr>\n",
       "    <tr>\n",
       "      <th>196</th>\n",
       "      <td>If you are a doctor, please answer the medical...</td>\n",
       "      <td>My mother is having lightheadiness and heart p...</td>\n",
       "      <td>Hi, Lightheadedness associated with palpitatio...</td>\n",
       "    </tr>\n",
       "    <tr>\n",
       "      <th>197</th>\n",
       "      <td>If you are a doctor, please answer the medical...</td>\n",
       "      <td>I am 27 years old female. I am having right lo...</td>\n",
       "      <td>Hi ! Good morning. I am Chat Doctor answering ...</td>\n",
       "    </tr>\n",
       "    <tr>\n",
       "      <th>198</th>\n",
       "      <td>If you are a doctor, please answer the medical...</td>\n",
       "      <td>Respected Sir,My name is Nishanth singh gurung...</td>\n",
       "      <td>Thanks for your query, I have gone through you...</td>\n",
       "    </tr>\n",
       "    <tr>\n",
       "      <th>199</th>\n",
       "      <td>If you are a doctor, please answer the medical...</td>\n",
       "      <td>Hi, I m 38 years old and due to a gun shot thr...</td>\n",
       "      <td>Hi, Thank you for the query.  First thing is y...</td>\n",
       "    </tr>\n",
       "  </tbody>\n",
       "</table>\n",
       "<p>200 rows × 3 columns</p>\n",
       "</div>"
      ],
      "text/plain": [
       "                                           instruction  \\\n",
       "0    If you are a doctor, please answer the medical...   \n",
       "1    If you are a doctor, please answer the medical...   \n",
       "2    If you are a doctor, please answer the medical...   \n",
       "3    If you are a doctor, please answer the medical...   \n",
       "4    If you are a doctor, please answer the medical...   \n",
       "..                                                 ...   \n",
       "195  If you are a doctor, please answer the medical...   \n",
       "196  If you are a doctor, please answer the medical...   \n",
       "197  If you are a doctor, please answer the medical...   \n",
       "198  If you are a doctor, please answer the medical...   \n",
       "199  If you are a doctor, please answer the medical...   \n",
       "\n",
       "                                                 input  \\\n",
       "0    I woke up this morning feeling the whole room ...   \n",
       "1    My baby has been pooing 5-6 times a day for a ...   \n",
       "2    Hello, My husband is taking Oxycodone due to a...   \n",
       "3    lump under left nipple and stomach pain (male)...   \n",
       "4    I have a 5 month old baby who is very congeste...   \n",
       "..                                                 ...   \n",
       "195  i am taking glycomate sr igram at night before...   \n",
       "196  My mother is having lightheadiness and heart p...   \n",
       "197  I am 27 years old female. I am having right lo...   \n",
       "198  Respected Sir,My name is Nishanth singh gurung...   \n",
       "199  Hi, I m 38 years old and due to a gun shot thr...   \n",
       "\n",
       "                                                output  \n",
       "0    Hi, Thank you for posting your query. The most...  \n",
       "1    Hi... Thank you for consulting in Chat Doctor....  \n",
       "2    Hello, and I hope I can help you today.First, ...  \n",
       "3    HI. You have two different problems. The lump ...  \n",
       "4    Thank you for using Chat Doctor. I would sugge...  \n",
       "..                                                 ...  \n",
       "195  Hi Mr. Mira, As you have not mentioned the dur...  \n",
       "196  Hi, Lightheadedness associated with palpitatio...  \n",
       "197  Hi ! Good morning. I am Chat Doctor answering ...  \n",
       "198  Thanks for your query, I have gone through you...  \n",
       "199  Hi, Thank you for the query.  First thing is y...  \n",
       "\n",
       "[200 rows x 3 columns]"
      ]
     },
     "execution_count": 3,
     "metadata": {},
     "output_type": "execute_result"
    }
   ],
   "source": [
    "health_care_path = r\"..\\data\\raw\\HealthCareMagic-100k.json\"\n",
    "df = pd.read_json(health_care_path)\n",
    "\n",
    "df.head(200)"
   ]
  },
  {
   "cell_type": "code",
   "execution_count": 12,
   "id": "27f42b99",
   "metadata": {},
   "outputs": [],
   "source": [
    "GREET_PATTERNS = [\n",
    "    # các pattern thường gặp (case-insensitive)\n",
    "    r\"^hi[,.\\s]*\",\n",
    "    r\"^hello[,.\\s]*\",\n",
    "    r\"^good\\s+(morning|evening|day)[,.\\s]*\",\n",
    "    r\"^dear[\\s\\w:,-]*[,.\\s]*\",                    # Dear Name:\n",
    "    r\"^thank(s| you)( for)? (posting|your query|for your query|for the query|for asking|for contacting|for the query|for your question|for the query)[,.\\s]*\",\n",
    "    r\"^thanks( for)?( your)?( query| posting| for posting| for contacting| for asking)?[,.\\s]*\",\n",
    "    r\"^welcome( to)?( the)?( chat\\s*doctor| chatdoctor| chat\\s*doctor!| chatdoctor!| chat\\s*doctor[,.\\s]*)?\",\n",
    "    r\"^welcome (and )?thank(s| you)[,.\\s]*\",\n",
    "    r\"^i\\s+(have\\s+)?(read|gone\\s+through|studied)\\s+(your|the)\\s+(query|question|case)[,.\\s]*\",\n",
    "    r\"^i\\s+understand\\s+your\\s+concern[s]?[.,\\s]*\",\n",
    "    r\"^i\\s+can\\s+understand\\s+your\\s+concern[s]?[.,\\s]*\",\n",
    "    r\"^thank you for writing( to us| about your query)?[,.\\s]*\",\n",
    "    r\"^thanks for posting( your query)?[,.\\s]*\",\n",
    "    r\"^thanks for contacting( us)?[,.\\s]*\",\n",
    "    r\"^thanks for choosing( chat\\s*doctor)?[,.\\s]*\",\n",
    "    r\"^thank you for your query[,.\\s]*\",\n",
    "    r\"^thanks for your query[,.\\s]*\",\n",
    "    r\"^thank you for asking( chat\\s*doctor)?[,.\\s]*\",\n",
    "    r\"^welcome to (chat\\s*doctor|chatdoctor)[,.\\s]*\",\n",
    "    r\"^forum[.,\\s]*$\",\n",
    "    r\"^on chat\\s*doctor[.,\\s]*\",\n",
    "    r\"^chat\\s*doctor[.,\\s]*\",\n",
    "    r\"^thank-you for providing the brief history[,.\\s]*\",\n",
    "    r\"^dear[,\\s]*\",  # generic dear\n",
    "    # short salutations like \"Good morning.\", \"Good evening sir.\"\n",
    "    r\"^good (morning|evening|day|afternoon)[,.\\s]*\",\n",
    "]\n",
    "\n",
    "# global removals anywhere in text (not only leading)\n",
    "GLOBAL_REMOVE = [\n",
    "    r\"\\bchat[-\\s]*doctor\\b\",\n",
    "    r\"\\bthanks for (posting|your query|the query|asking|contacting)\\b\",\n",
    "    r\"\\bthank you for (posting|your query|asking|contacting)\\b\",\n",
    "    r\"\\bthanks for your query\\b\",\n",
    "    r\"\\bwelcome to chatdoctor\\b\",\n",
    "    r\"\\bwelcome to chat doctor\\b\",\n",
    "    r\"\\bthanks for posting\\b\",\n",
    "    r\"\\bthanks for asking\\b\",\n",
    "    r\"\\bthank you for asking\\b\",\n",
    "    r\"\\bthanks for contacting\\b\",\n",
    "    r\"\\bthanks\\b\\.?$\",\n",
    "    r\"\\bforum\\b\\.?\",\n",
    "    r\"\\bin\\.?$\",   # stray \"in.\" tokens\n",
    "]\n",
    "\n",
    "# compile patterns\n",
    "GREET_RE = [re.compile(p, flags=re.I) for p in GREET_PATTERNS]\n",
    "GLOBAL_RE = [re.compile(p, flags=re.I) for p in GLOBAL_REMOVE]\n",
    "\n",
    "# small helper to collapse weird spaced letters like \"T hank\" -> \"Thank\"\n",
    "_SPLICED_LETTER_RE = re.compile(r'\\b(?:[A-Za-z]\\s){2,}[A-Za-z]\\b')\n",
    "\n",
    "def _collapse_spliced_letters(s: str) -> str:\n",
    "    \"\"\"\n",
    "    Collapse sequences like 'T hank' or 'W a n d a' into 'Thank' / 'Wanda' for short sequences.\n",
    "    Only apply to sequences <= ~30 chars to be safe.\n",
    "    \"\"\"\n",
    "    def repl(m):\n",
    "        t = re.sub(r'\\s+', '', m.group(0))\n",
    "        return t\n",
    "    \n",
    "    return _SPLICED_LETTER_RE.sub(repl, s)\n",
    "\n",
    "def _split_sentences(text: str) -> List[str]:\n",
    "    # simple sentence splitter by punctuation\n",
    "    parts = re.split(r'(?<=[\\.\\?\\!])\\s+', text)\n",
    "    # also split on newlines\n",
    "    exploded = []\n",
    "    for p in parts:\n",
    "        exploded.extend([s.strip() for s in p.splitlines() if s.strip()])\n",
    "        \n",
    "    return [s for s in exploded if s.strip()]\n",
    "\n",
    "def clean_healthcaremagic_text_v2(text: str, max_leading_sentences=6) -> str:\n",
    "    \"\"\"\n",
    "    Improved cleaner for HealthCareMagic-like doctor replies.\n",
    "    Removes various greeting/filler constructs at the beginning (and some global tokens).\n",
    "    \"\"\"\n",
    "    if not text:\n",
    "        return text\n",
    "\n",
    "    # normalize unicode and whitespace\n",
    "    text = unicodedata.normalize(\"NFKC\", text)\n",
    "    text = text.replace('\\r', ' ')\n",
    "    text = re.sub(r'\\u200b', '', text)  # zero-width\n",
    "    text = re.sub(r'\\s+', ' ', text).strip()\n",
    "\n",
    "    # collapse weird broken-letter tokens e.g. \"T hank\" -> \"Thank\"\n",
    "    text = _collapse_spliced_letters(text)\n",
    "\n",
    "    # replace known connector typos to normalize\n",
    "    text = re.sub(r'(?i)chat\\s*doctor', ' ', text)   # remove the service markers\n",
    "    text = re.sub(r'(?i)chatdoctor', ' ', text)\n",
    "    text = re.sub(r'(?i)on chat doctor', ' ', text)\n",
    "    text = re.sub(r'(?i)welcome\\sto', ' ', text)\n",
    "\n",
    "    # split into sentences and drop initial greeting/filler sentences\n",
    "    sents = _split_sentences(text)\n",
    "\n",
    "    keep_idx = 0\n",
    "    for i, s in enumerate(sents[:max_leading_sentences]):  # only examine a few head sentences\n",
    "        s_strip = s.strip()\n",
    "        low = s_strip.lower()\n",
    "\n",
    "        # if very short and contains filler tokens, drop\n",
    "        if len(s_strip.split()) <= 6 and any(tok in low for tok in (\"thanks\", \"thank\", \"welcome\", \"forum\", \"dear\", \"hi\", \"hello\", \"good morning\", \"good evening\")):\n",
    "            keep_idx = i + 1\n",
    "            continue\n",
    "\n",
    "        # if matches any greeting pattern -> drop this sentence\n",
    "        matched = False\n",
    "        for pat in GREET_RE:\n",
    "            if pat.match(s_strip):\n",
    "                matched = True\n",
    "                keep_idx = i + 1\n",
    "                break\n",
    "        if matched:\n",
    "            continue\n",
    "\n",
    "        # also drop sentences that begin with \"i have read\", \"i have gone through\", \"i read\", \"i understand\"\n",
    "        if re.match(r'(?i)^(i\\s+(have\\s+)?(read|gone\\s+through|studied|seen)|i\\s+(understand|can\\s+understand))', s_strip):\n",
    "            keep_idx = i + 1\n",
    "            continue\n",
    "\n",
    "        # otherwise break on first \"real\" sentence\n",
    "        break\n",
    "\n",
    "    # reconstruct remaining text\n",
    "    remaining = \" \".join(sents[keep_idx:]) if keep_idx < len(sents) else \"\"\n",
    "    if not remaining:\n",
    "        # if nothing left, fallback to original but remove greetings globally\n",
    "        remaining = text\n",
    "\n",
    "    # global removals of common filler fragments inside text\n",
    "    for rep in GLOBAL_RE:\n",
    "        remaining = rep.sub(\" \", remaining)\n",
    "\n",
    "    # remove common connectors left at sentence starts e.g. \"and thank you ...\" or \"and welcome ...\"\n",
    "    remaining = re.sub(r'(?i)^[\\s,;:-]*(and\\s+)?(thank(s| you)|welcome)[\\s,;:-]*', \"\", remaining)\n",
    "\n",
    "    # final cleanup: remove duplicated spaces/punctuations and stray leading punctuation\n",
    "    remaining = re.sub(r'\\s+', ' ', remaining).strip()\n",
    "    remaining = re.sub(r'^[\\s,.:;!?-]+', '', remaining)\n",
    "    remaining = remaining.strip()\n",
    "\n",
    "    return remaining\n",
    "\n",
    "df_cleaned = df.copy()\n",
    "df_cleaned['output'] = df_cleaned['output'].apply(lambda x: clean_healthcaremagic_text_v2(x))"
   ]
  },
  {
   "cell_type": "code",
   "execution_count": 13,
   "id": "26d0cd9c",
   "metadata": {},
   "outputs": [
    {
     "data": {
      "application/vnd.microsoft.datawrangler.viewer.v0+json": {
       "columns": [
        {
         "name": "index",
         "rawType": "int64",
         "type": "integer"
        },
        {
         "name": "instruction",
         "rawType": "object",
         "type": "string"
        },
        {
         "name": "input",
         "rawType": "object",
         "type": "string"
        },
        {
         "name": "output",
         "rawType": "object",
         "type": "string"
        }
       ],
       "ref": "962a5513-2d72-4304-abdd-63f6ef5830ad",
       "rows": [
        [
         "0",
         "If you are a doctor, please answer the medical questions based on the patient's description.",
         "I woke up this morning feeling the whole room is spinning when i was sitting down. I went to the bathroom walking unsteadily, as i tried to focus i feel nauseous. I try to vomit but it wont come out.. After taking panadol and sleep for few hours, i still feel the same.. By the way, if i lay down or sit down, my head do not spin, only when i want to move around then i feel the whole world is spinning.. And it is normal stomach discomfort at the same time? Earlier after i relieved myself, the spinning lessen so i am not sure whether its connected or coincidences.. Thank you doc!",
         "The most likely cause for your symptoms is benign paroxysmal positional vertigo (BPPV), a type of peripheral vertigo. In this condition, the most common symptom is dizziness or giddiness, which is made worse with movements. Accompanying nausea and vomiting are common. The condition is due to problem in the ear, and improves in a few days on own. Betahistine tablets would help relieve your symptoms. Doing vestibular rehabilitation or adaptation exercises would prevent the recurrence of these symptoms. An ENT evaluation would also help. I hope it helps. Best wishes, ."
        ],
        [
         "1",
         "If you are a doctor, please answer the medical questions based on the patient's description.",
         "My baby has been pooing 5-6 times a day for a week. In the last few days it has increased to 7 and they are very watery with green stringy bits in them. He does not seem unwell i.e no temperature and still eating. He now has a very bad nappy rash from the pooing ...help!",
         "It seems your kid is having viral diarrhea. Once it starts it will take 5-7 days to completely get better. Unless the kids having low urine output or very dull or excessively sleepy or blood in motion or green bilious vomiting...you need not worry. There is no need to use antibiotics unless there is blood in the motion. Antibiotics might worsen if unnecessarily used causing antibiotic associated diarrhea. I suggest you use zinc supplements (Z&D ."
        ],
        [
         "2",
         "If you are a doctor, please answer the medical questions based on the patient's description.",
         "Hello, My husband is taking Oxycodone due to a broken leg/surgery. He has been taking this pain medication for one month. We are trying to conceive our second baby. Will this medication afect the fetus? Or the health of the baby? Or can it bring birth defects? Thank you.",
         "Medications can only affect a fetus if you take it while pregnant. The only issue is that certain medications may decrease a men sperm count and affect fertility, however pain medications like Oxycodone do not have this effect. So there is no reason for you to worry about conceiving while taking this medication. The best way you can prepare for a healthy pregnancy is to follow a well-balanced diet, limit alcohol consumption and avoid cigarette smoke, and take a daily prenatal vitamin or folic acid, as folic acid supplements in early pregnancy helps to prevent certain types of birth defects. I hope this answers your question and best wishes for your upcoming pregnancy,"
        ],
        [
         "3",
         "If you are a doctor, please answer the medical questions based on the patient's description.",
         "lump under left nipple and stomach pain (male) Hi,I have recently noticed a few weeks ago a lump under my nipple, it hurts to touch and is about the size of a quarter. Also I have bern experiencing stomach pains that prevent me from eating. I immediatly feel full and have extreme pain. Please help",
         "You have two different problems. The lump under the nipple should be removed, biopsied. This will help you to get rid of the disease, and you get a diagnosis. Second problem looks a bit serious one: Pain that prevents you from eating-immediate fullness, and extreme pain. I would advise such a patient to undergo the upper GI endoscopy asap. This can be an ulcer with a problem at the pylorus. The exact diagnosis is the most important to start the right therapy. Do not waste time in starting the therapy."
        ],
        [
         "4",
         "If you are a doctor, please answer the medical questions based on the patient's description.",
         "I have a 5 month old baby who is very congested with a terrible cough. Its rattly/raspy and croupy sounding cough. She started choking on her coughs and the mucous that has come up. She also has a fever and runny nose. Should i take her to urgent care?",
         "I would suggest that you see your doctor. Your baby maybe having bronchiolitis which is a lung infection common to your kids age. It is commonly caused by a virus. Albuterol via nebulization should be utilized in order to alleviate the wheezing and also help with the congestion. A decongestant can also be used for the colds. Also, it would also advise doing a chest X-ray in order to rule out other diseases (ex. pneumonia)sincerely, Mark RosarioGeneral pediatrics/Pediatric Pulmonology"
        ],
        [
         "5",
         "If you are a doctor, please answer the medical questions based on the patient's description.",
         "I am F 38 in good shape work out (do triathlons) regular but have had back pain from different reasons throughout my life now I every so often wake up with severe lower back, hip pain for no reason. today the pain is almost taking my breathe away when i move. It is a dull pain when i am just lying down but the moment I make any sort of movement I have sharp and sometimes shooting pain down my legs.",
         "There might be having osteomalacia or osteoporosis as well. Go for x-ray lumbosacral region for osteoarthritis. Physiotherapy like back extension exercises will be much helpful. Take B1, B6, B!2 shots or medicine. Take calcium, vitamin A and D supplements. Ok and take care."
        ],
        [
         "6",
         "If you are a doctor, please answer the medical questions based on the patient's description.",
         "sir, MY uncle has ILD-Interstitial Lung disease.from my research over google i found that the cause is important to be known. the cause wat i feel is due to breakage of acid bottle in bathroom which caused lot of smoke and that time he wasnot able to be normal for 15-20 minutes. then he was normal .may be that would have been the reason for this ILD. Please suggest wat we should do",
         "OLD (interstitial lung disease) can not be caused by single exposure of any chemical. Chronic exposure (for years) of chemicals can cause OLD. It is not possible to find out cause for each and every OLD patient. Some patients can develop OLD just because of aging (old age). So your uncle is not having OLD due to breakage of acid bottle. He might be having age related OLD. Better to start Perfinodone and N acetyl cysteine (NAC) for OLD rather than searching for cause. Hope I have solved your query. I will be happy to help you further. Wishing good health to your uncle."
        ],
        [
         "7",
         "If you are a doctor, please answer the medical questions based on the patient's description.",
         "my husband was working on a project in the house and all of a sudden a bump about the size of a half dollar appeard on his left leg inside below the knee. He is 69 years old and had triple by pass surgery 7 years ago. It stung when it first happened. Doesn t hurt now. He is seated with his leg ellevated. Is this an emergency?",
         "It could be a blood collection due to minor injury or a vein rupture which is also common at this age. It is not an emergency, but you should apply compression bandage and warm compresses if six hours have past. Furthermore, it should get relieved over the next few days but if it continues to increase or persist then you should see a Doctor who can examine the patient. Take care. ."
        ],
        [
         "8",
         "If you are a doctor, please answer the medical questions based on the patient's description.",
         "hi my nine year old son had a cough and flu symptons three months ago and the chesty sounding cough and green phlegm still remains. it did seem to get better but never totally went and has now picked up again...he has only ever had antibiotics once in his live which suggests he his generally fitand well and active...never short of breath or weezy...so why would this be....",
         "To treat that kind of allergy you can give him an over the counter antihistamines once daily before going to bed. A cough suppressant as dextromethorphan and an expectorant as Murine will help reduce the cough. Make sure he . If the green phlegm persists he might require an antibiotic. Hope I have answered your query. Let me know if I can assist you further."
        ],
        [
         "9",
         "If you are a doctor, please answer the medical questions based on the patient's description.",
         "gyno problemsfor the past few months, I have been having issues with my vagina. there always seems to be something wrong with me. its either an infection or a yeast infection from the medication used to treat the previous infection or a herpes outbreak as a result of a yeast infection. most recently, I had a uti. I was treated for that and everything seemed fine, until after I finished the medication. it still hurt when I had sex and still is uncomfortable to pee. I dont know whats going on and this has been going on for months.",
         "I am . I understand your concern. Recurring yeast / final infection occur due to:1. Improper treatment.2. Inadequate treatment3. Wrong diagnosis.4. Not treating the partner. I would advise you to get a Urine examination done for bacteria and fungus. When the reports are available, get treated. Also, treat your partner. This is my personal opinion for you based on available details. If you have any further query please ask me. Stay Healthy , MD"
        ],
        [
         "10",
         "If you are a doctor, please answer the medical questions based on the patient's description.",
         "I have found that I have an allergy to leotensin. They have taken me off of everything....I found in the information that one side effect if the red skin lensions with a purple center. I was looking to see if there was anything I could do to help the spots go away. I am a dental hygienist and I will be working the next two days. Is there anything that would cover them, so the patients would not be aware???",
         "Cellophane You for contacting . Allergic reaction takes some time to settle. In the meanwhile you can cover it over the body by wearing appropriate long clothes which can cover most of the body to hide it. If itching occurs then you can take cetirizine once daily to prevent itching. Hope this answers your question. If you have additional questions or follow-up questions then please do not hesitate in writing to us. Wishing you good health."
        ],
        [
         "11",
         "If you are a doctor, please answer the medical questions based on the patient's description.",
         "Hi my name is Wendy I ve been having an issue for the last couple of months or so I been having severe pain in my lower back around the front into the groin area and its radiating down my thigh and so on I am currently a cancer patient nobody seems to be able to tell me what it could be the pain is so bad that it brings tears to my eyes would you possibly know what it could be or might be",
         "You have not mentioned in your query details regarding cancer you are suffering from. The pain in back radiating down to thigh can be mostly due to metastasis in the spines or in to lymph nodes, You need to consult your treating oncologist and get evaluated by doing C. T scan of abdomen and pelvis and Bone scan. Further treatment will depend upon result of these tests and final diagnosis. ."
        ],
        [
         "12",
         "If you are a doctor, please answer the medical questions based on the patient's description.",
         "hye, My aunt is having shortness of breath and she is on vent now. Her breast showed some kind of infection that apparently turned out to have black blisters. I could she those spreading. When we went for lungs x-ray doctor said she has accumulation of water in her lungs",
         "By your history and description, possibility of bacterial infection especially staphylococcus is more in her case. She is having pleural effusion and infective skin lesions on breast. Staphylococcus can cause pleural effusion and blister formation on skin. So chances of staphylococcal infection is more in her case. Better to send pleural fluid culture and sensitivity for the diagnosis of staphylococcal infection. This will also tell about effective antibiotic therapy. With appropriate antibiotics and Care, this infection can be treated. Hope I have solved your query. Wishing good health to your aunt."
        ],
        [
         "13",
         "If you are a doctor, please answer the medical questions based on the patient's description.",
         "i am 28 yrs old, i got married before 6 year, i was infected by pulmonary tuberculosis before 6 years, i took treatment for 6 months after that i statred gainig weigt, my periods was irredulat, i increased nearlt 20 kgs after that, now my weight is 75 kgs, i trying to conceive, i took tsh, other blood test too, but everything is normal, do i have the chances to conceive",
         "The chances of conceiving still exist with irregular periods. I don't know if you have been trying to conceive but to no avail. If that is the case, then I think both of you have to be assessed. Infertility within a couple can be linked to a man, woman or both. If everything is fine with you except irregular periods, then I would advise that both of you should see a doctor for assessment and counseling. I hope that helps wish you well"
        ],
        [
         "14",
         "If you are a doctor, please answer the medical questions based on the patient's description.",
         "I sprained my foot on Friday. I stepped on what I thought was lawn. Instead I was a bit on the lawn, but the outside of my foot snapped down into a trough. My foot has been swollen since Friday. Today is Thursday. Kept ice on it for 24 hours. Bruising started after that, Now bruising is spreading. It is really dark on my toes. Pain is on outside of my foot, not on my ankle.",
         "Diagnosis needs to be confirmed by doing x-ray of the involved foot anteroposterior and oblique views to rule out bony abnormalities. If x-ray is normal RICE therapy is needed which means Rest Ice application Compression bandage and Limb Elevation. Tab Diclofenac sodium twice a day for pain relief and tab Choral forte twice a day for swelling reduction is required. If x-ray shows fracture Below knee slab may be given. If X-ray is abnormal please consult orthopedic surgeon nearby your area. Hope I have answered your query. Let me know if I can assist you further."
        ],
        [
         "15",
         "If you are a doctor, please answer the medical questions based on the patient's description.",
         "hi, i have been recently diagnosed with H pylori.. i have been give the triple treatment of calithramycin, amoxxicilin and omeprazole.. is dis something very serious and does this have some long term implications etc.can u plz give some detailed information about Hpylori. thnx",
         "I appreciate your concern towards H pylori infection which normally causes break in the lining of the stomach (peptic ulcer). H pylori is an exceptional bacterium which can survive in the acidic environment of the stomach producing tissue damage result in ulcer. Since this is a bacterial infection, hence antibiotics are used for 2 weeks to kill H pylori. Along with antibiotics Omeprazole is given for a period of 4-6 weeks to suppress the acid production and to increase the healing process of the ulcer. It is not a serious condition, usually triple treatment is sufficient to cure this condition. You must avoid taking Alcohol, hot and spicy foods, NSAID painkiller, smoking, caffeine, carbonated sweetened soft . I hope all your doubts have been clarified in a simple language,Feedback in this regard is highly appreciated. Take care"
        ],
        [
         "16",
         "If you are a doctor, please answer the medical questions based on the patient's description.",
         "I had a alt reading about 2+ months ago of 43 then retested today and got a 60 alt reading my other readings came back normal should I be concerned?Im 40 years 5ft 3 and weigh 192albs have a history of chronic vertigo and insomnia, and chronic sinus problems. I take valium 5 mg 4 times a day, fluticansone 2 puffs each nose once a day, qvair two puffs twice a day to prevent weasing, claritin for allergies, and I do sinus rinses as needed. I am female.My doctor says none of the medicine has liver side effects, and I dont drink alcohol but a sip on the rare occasion. He thinks it could be do my weight and Im working on this with gradual exercise when Im able too. Should I be worried with this test result? I had one other result that was high my triglcyerides read 198 ? WWW.WWWW.WW",
         "First I would say to not worry. Normal Alt levels are 7 to 56 unit (depending on from the kits that laboratories use)In one of your tests, your Alt was 60. This level is almost normal and it doesn't always mean a serious condition of your liver. Here are some reasons why a healthy person might have changes in the levels of liver enzymes:-alcohol-exercise -some medications like aspirin, paracetamol,antibiotics, Cholesterol lowering ."
        ],
        [
         "17",
         "If you are a doctor, please answer the medical questions based on the patient's description.",
         "i had surgery done 5 months ago for scar tissue and adhesion removal. my gynecologist just found a cyst on my right ovary. im still having problems, when my husband and i have sex i get severe cervical pain and afterward i get abdominal cramps severe enough i get light headed, also i get abdominal pain and rectal pain before and during a bowel movement, i also get abdominal pain during urination. im 26 years old. what could it be?",
         "You have an obvious reason for pain - the adhesions and scar must have reformed. But the history of Dyspareunia, meaning painful sex indicated the is some active inflammatory process still going on in the pelvis called PID-Pelvic Inflammatory Disease. Cystitis and Procto-colitis are the additional problems causing the pain in abdomen and rectum before and during bowel movements as also during urination. Ovarian cyst can cause problem only if it enlarges fast or gets twisted. I would advise you the following::-Contrast enhanced CT scan of the abdomen.-Enteroclysis-Colonoscopy-exploratory Laparoscopy or Laparotomy which will be of diagnostic and therapeutic value. A proper course of an antibiotic, metronidazole, probiotic may help a bit or more."
        ],
        [
         "18",
         "If you are a doctor, please answer the medical questions based on the patient's description.",
         "Hi, I had a subarachnoid bleed and coiling of brain aneurysm last year. I am having some major bilateral temple pain along with numbness that comes and goes in my left arm/hand/fingers. I have had headaches since the aneurysm, but this is different. Also, my moods have been horrible for the past few weeks.",
         "Aneurysm in brain causes headache due to compression of pain sensitive structure in brain. But pain is usually unilateral not bilateral. This pain will not radiate in both upper limb. Bilateral upper limb pain may be due to cervical spondylosis or other causes. You have anxiety of aneurysm, so due to anxiety your mood is horrible because aneurysm does not cause horrible mood change. So your headache may be chronic tension type headache. You may relieve by antianxiety ."
        ],
        [
         "19",
         "If you are a doctor, please answer the medical questions based on the patient's description.",
         "Almost everytime I eat, it burns when I swallow. Not in my throat but in my chest. It burns all the way down. It helps a lil if I drink water after I swallow. I wake up a lot in the middle of the night with heartburn so I chew some tums and it helps for the most part. Why is it so painful when I eat?",
         "In my opinion, you are mostly having HERD (gastroesophageal reflux disease). It is due to laxity of gastroesophageal sphincter. Because of this the acid of the stomach tends to come up in the esophagus and cause burning in chest. So follow these steps for better symptomatic relief. 1. Avoid stress and tension. 2. Avoid hot and spicy food. Avoid junk food. Avoid large meals, instead take frequent small meals. 3. Take proton pump inhibitors and prokinetic . 4. Keep 2 - 3 pillows under head in the bed to prevent reflux. 5. Quit smoking and alcohol if you have these habits. Lose weight if you are obese. Don't worry, you will be alright with all these. Hope I have solved your query. I will be happy to help you further. Wish you good health."
        ],
        [
         "20",
         "If you are a doctor, please answer the medical questions based on the patient's description.",
         "for the pst  6 days  i have been haing  upper  abdome  distress ...  i have had gall bladder  surgery  2 yrs  ago ..in the past  2  yrs  when i get these bouts  .. i go to  emerg  they run cardiograms  xrays ,blood work ,all comes back normal  ...im stressing out  over this  as im  scared every time it happens  im having a heart  attack  wht is it  ?",
         "You are getting bouts of pain in the upper abdomen within the last 2 years particularly after the gall bladder surgery. This is great news that cardiac problems are ruled out by the tests every time in the emergency Room. This means that we have to find a local cause in the abdomen itself. I would suggest the following:Get Ct scan and MRCP for the hepato-biliary- pancreatic system. Also go for upper GI Endoscopy to rule out Gastric ulcer. Cancer. Colonoscopy for the possible problem of the colon in this area. If required a diagnostic Laparoscopy may help to see or rule out the intestinal adhesion due to bands or kinking or so and can be tackled at the same time. This way a final diagnosis and treatment plan can be done to get you permanent results."
        ],
        [
         "21",
         "If you are a doctor, please answer the medical questions based on the patient's description.",
         "I have a hole its about the size of a dime at the beggining of my butt crack (gross I know) but Im just wondering how to get rid of it at home I put anti bacterial on it with a q - tip it sizzles but nothing comes out or changes . What do I do ? (At home )",
         "**1. Opinion and examination with Surgeon is of utmost importance since hole around butt crack could be :1. Pilonidal dimple not transformed into sinus [beginning stage where pain/discharge is not there], so the best management which can be done at home is: keep the area clean and hygienic2. Do not use a cotton bud to scratch, clean or put into hole.3. It could be pressure sore due to prolonged sitting, or old infected boil which opened and left a big hole, thus Opinion/Examination is needed PS. Take care, not at home, but after surgical evaluation and exploration."
        ],
        [
         "22",
         "If you are a doctor, please answer the medical questions based on the patient's description.",
         "Dear Doctor, We are trying to have a baby and gave it a big try this time but as we are planning to go for an Invitro (ICSI) for the next period, my doctor gave me Primolut Not from day 16 to day 25. I am wondering if this will have a negative impact on my pregnancy if I am pregnant because as explained we gave it a big try this time. Thank you in advance for your response. With my Best Regards; Mme Sue",
         "However, in case you have conceived this month, it is not advisable to take Primal N, as it causes virilization of female fetus and other abnormalities in the baby. There are other formulations of progesterone like Me . These can be substituted for Primal - N. Please brief your IVF practitioner about the state of affairs and switch over to a safer"
        ],
        [
         "23",
         "If you are a doctor, please answer the medical questions based on the patient's description.",
         "Hello, I am in the middle of a serious anxiety/panic attack as I just became aware that I may have a tetanus infection. I am a senior at Clemson University and to be honest the apartment where I resided in the past four months was extremely unsanitary. One toilet was clogged for nearly two months which I now know could have bred bacterial spores that cause tetanus infections. I cut myself shaving around 1 1/2 months ago. I was out of razors and used a razor that had been sitting in the bathroom with the clogged up toilet I mentioned above. I did clean the razor with rubbing alcohol before use however I had an open wound on my face for a while.. About a week. For about a month now I have been feeling extremely irritable, experiencing lockjaw symptoms, been short of breath, had fevers on and off, heart palpitations, and I have noticed that when I smile my face contorts into what one would call a sardonic smile. Am I going to die? Please let me know your opinion",
         "Tetanus is a bacterial disease by clostridium retain. There is no cure for tetanus, but it can be prevented by adequate vaccination. Usual symptoms are all due to painful contraction of muscles as it affects our nervous system. Spasms and stiffness in your jaw muscles, stiffness of your neck muscles, difficulty swallowing, stiffness of your abdominal muscles, painful body spasms lasting for several minutes, typically frittered by minor occurrences, such as a . If you are not get immunized for tetanus, you should start tetanus toxic vaccination now itself. First 2 doses at 4 weeks apart. Third dose after 6 months. After that your immunity may stand up to 10 years. Thank you."
        ],
        [
         "24",
         "If you are a doctor, please answer the medical questions based on the patient's description.",
         "Hi hope you can helpive been getting chest pains, not severe but a constant pain, can happen when im just resting but has also happened when im exercising, it continues through to my back as well. I sometimes wake up with chest pains too. i have a strong history of heart disease. grandfather died at 26 from a heat attack and mother had one at 45, also grandmother on the other side had a heart attack. Could you please explain what is happening? Thanks",
         "You have not provided your age on the details. I would have been able to help u better had you mentioned your age. You have complaints of chest pain radiating to back with strong family history. So in your case it is better that we evaluate you for presence of heart disease. I recommend an ECG and 2d echo initially. If both these tests are normal you can proceed for a treadmill test which requires you to walk on a treadmill while your ECG is continuously monitored. This will show if the heart blood supply suffers while you are exercising which indirectly predicts whether you have blockages in your heart. Please do the above tests and revert. Wishing you good healthRegards."
        ],
        [
         "25",
         "If you are a doctor, please answer the medical questions based on the patient's description.",
         "Im 28 year old and suffering from male baldness pattern. I started using RICHFEEL tricology centres saw palmetto treatment but it didnt help, then I tried Minoxidil 5%  but discontinued it after 12 days after having some side effects (some tiny boils on my forehead). Kindly suggest me which medicine i should take.",
         "Take oral treatment like tab finasteride 1 mg daily with tab biotin 10 mg thrice a day. Cleanse the scalp with ketoconazole shampoo daily. After a few days you may restart the minoxidil. Tiny boils may be folliculitis. Take a course of antibiotic like cap Doxycycline. Avoid stress and worries. Continue treatment for long time to get good result in an . Hope I have answered your query. Let me know if I can assist you further."
        ],
        [
         "26",
         "If you are a doctor, please answer the medical questions based on the patient's description.",
         "I too fell and hurt my left side of my chest. I have a large lump and I am very black and blue. I need to fly out on Sunday this fall happen last Sunday. I have been taking aleve for pain and arnica gel. Should I be worried about the flight? I am 70 Thank you,",
         "You may be having rib fractures. You have to do x-ray chest as early as possible. Rib fractures can cause pneumothorax/air in chest or hemothorax/blood in the chest which will be seen on x-ray. Only rib fractures needs no treatment except painkillers. But if pseudo or hemothorax is present that needs ICD tube insertion in the chest. In that case air travel should be avoided. Regards"
        ],
        [
         "27",
         "If you are a doctor, please answer the medical questions based on the patient's description.",
         "I have had a few small hard painless bumps where my cheek goes to my gums. this may sound terrible but they have been there, the same size & number for about a year if I remember correctly (scratch that, I just talked with a friend of mine & remebered they have been there for four years) & I have yet to tell my dentist about them. any thoughts? I am a 16 yr. old male & have used snuff habitually before, for only a few years but none the less.",
         "Taking snuff for a prolonged period is not known to cause cancer, but it may lead to a number of local infections. Also, such people have a number of vitamin deficiencies which may also lead to irregularities in the cheeks and gums. I would advise you to take an antibiotic and antifungal (Tab Ciprofloxacin 500 mg twice daily +Tab For can 150 mg twice daily) plus a multivitamin (Tab B-Complex twice daily), all for 15 days. If your bumps don't improve by then, you should consult a surgeon."
        ],
        [
         "28",
         "If you are a doctor, please answer the medical questions based on the patient's description.",
         "my mother is 80 yrs. detected with vulva cancer. vulva is swollen red ,around discolourisation, white growth now extending to rectum. biopsy shows keratinizing squamous carcinoma vulva(welldifferentiated,invasive).she is little asthmatic, has cervical spondeolytis .",
         "She has well differentiated keratinizing squamous cell carcinoma. If her general health is good then treatment of choice is wide excision of carcinoma followed by chemotherapy or radiotherapy if needed. Consult your doctor and take treatment accordingly. Hope I have answered your question, if you have doubt then I will be happy to answer. Thanks for using . Wish you a very good health."
        ],
        [
         "29",
         "If you are a doctor, please answer the medical questions based on the patient's description.",
         "Suddenly this morning I got really excruciating lower right back pain. I was standing in the kitchen and it came on suddenly. It s the lower right side. It does not go down in the my legs it s just isolated to my back. I have no nausea or no blood in my urine. Any idea on what it could be?",
         "Lower back pain may cause by right lumber disc prolapse whic presses the nerve. But exact other causes are diagnosed by physical examination or by MRI. Common causes of lower backache and leg pain is a lumbar ruptured disc or herniated disc. Symptoms of a herniated disc may include dull or sharp pain, muscle spasm or cramping, sciatica, and leg weakness or loss of leg function. Sneezing, coughing, or bending usually intensify the pain. Rarely bowel or bladder control is lost, and if this occurs, seek medical attention at once. Sciatica is a symptom frequently associated with a lumbar herniated disc. Pressure on one or several nerves that contribute to the sciatic nerve can cause pain, burning, tingling, and numbness that extends from the buttock into the leg and sometimes into the foot. Usually one side (left or right) is affected. Take care"
        ],
        [
         "30",
         "If you are a doctor, please answer the medical questions based on the patient's description.",
         "Hey I am on my third antibiotic and still coughing and my ribs are killing me especially right side. Doc claims it is viral cough syndrome left over from bronchitis . I do not think so. No fever the whole time. Xray was clear on lungs. Taking mucinex, third antibiotic, inhaler and can not get better. Ulcers in mouth and my face in breaking out bad. Been sick since December 28,2012.",
         "The reasons for persistent cough, without findings in the lungs might, Uveitis a growth at the end of the throat, by touching the pharynx cause severe cough. For this type of cough you need to use cough suppressants like dexametarphane, codeine, etc which are present in some cough syrups. Best thing to get relief immediately is Darling with Luke warm salt water 2 or 3 times a day. Avoid taking fruits, juices, ice creams, ice water to . I advise you to consult an E.N.T.surgeon who is the doctor concerned with the causes in the pharynx. Wishing for a quick and comfortable relief, and thanks for calling."
        ],
        [
         "31",
         "If you are a doctor, please answer the medical questions based on the patient's description.",
         "Hi My mrs has this heart murmur, which is causing the blackouts, and she has panic attacks. Yesterday the doctor was quite concerned at how her blood pressure was so high, and then a couple of weeks go when she had her smear, it was too low. She has now got this bruising appearing around her lower back too, and i don t know how its been caused. I m really worried about her. Is this seriouse?",
         "For this reason, I would recommend performing a cardiac ultrasound and a resting ECG in order to examine her heart function and structure. Considering her blackout attacks, I would recommend performing some tests too:- complete blood count for anemia,- thyroid hormone levels for thyroid gland dysfunction- blood electrolytes for possible imbalance. An ambulatory 24-48 hours ECG monitoring would help examine her heart rhythm trends for a prolonged time and exclude possible cardiac arrhythmia. Hope I have answered your query. Let me know if I can assist you further."
        ],
        [
         "32",
         "If you are a doctor, please answer the medical questions based on the patient's description.",
         "I am on metformin 1000mg bid for pcos & was prescribed Percocet 10/650 for a severely displaced fracture needing surgery. I drink a glass of red wine nightly for heart heglth Bhc cardiac disease runs in my family... Should I be concerned a our elastase liver function test? I am also on Zoloft 150 daily, adderall 30mg bid & clonazepam as needed who I take a few night a a week",
         "You taken percent, clonazepam, Zoloft, Adderall so in my opinion you should avoid alcohol. It will damage the liver and will put you in trouble. You should check your liver enzymes levels once and also go for ultrasound abdomen once to rule out any alcoholic liver disease. Hope I have answered your question. If you have any doubts then feel free to ask me. I will be happy to answer. Thanks for using . Wish you a very good health."
        ],
        [
         "33",
         "If you are a doctor, please answer the medical questions based on the patient's description.",
         "I stopped taking microgestin, mid-pack, on 12/5/13 after being on it for 2 1/2 months. I had withdrawal bleeding 12/9/13 - 12/13/13.I was supposed to get my period 1/5/14 but i am late. Before birth control my cycles were always regular and always 28-29 days. My boyfriend and i have been using the pullout method frequently before and after stopping the pill. Could i be pregnant?",
         "Hallow Dear, Since you are no more on the birth control pills now, you are no more having any contraceptive protection. Pull out technique is not a safe and reliable technique for contraception. In this method, the penis is pulled out of vagina before the ejaculation takes place. However, before ejaculation, pre-seminal or pre-ejaculatory secretions (pre-cum) are deposited in the vagina unknowingly. Pre-cum does contain some sperms which are capable of impregnating a woman. Now that you have missed your period, please get your pregnancy test done on overnight morning first urine sample a week after the missed period; earlier, the test may report false negative. Alternatively, you may perform Beta test on the blood. This will help you detect your pregnancy status. If you are not pregnant, you may take some progestational preparation like Devilry for 5 days (with advice of a Gynecologist). Then within 4-7 days, you should get with . However, if you are pregnant, you may opt for medical termination of pregnancy. Since you are regularly engaged in sexual activity and do not want to continue with oral contraceptive pills, please adopt some other reliable contraceptive method like condom or intrauterine device. I hope this clarifies the issue."
        ],
        [
         "34",
         "If you are a doctor, please answer the medical questions based on the patient's description.",
         "I am going through Jaundice due to Hepatitis E, my stomach has gone too much weak, at time a lot of acidity. I was in hospital for 5 days but now feeling much better then before and my Total bilirubin has come down to 5 and liver enzymes are around 1400. Body is too much fluctuating, at times i feel better and at times i feel pathetic. I am on complete rest, at times i walk around else not much of physical work. I am taking monolive but i can see Liv52 is more famous, should i change that?",
         "I presume that you have been diagnosed with acute hepatitis E based on the relevant tests. You must know that acute hepatitis E is a self limiting disease, only needs supportive care. You are correctly started on Mongolia (UCA), please continue that, no need to change to Liv 52. Furthermore, you may also require acid suppressing and antiemetic tablets like - Antacid DSR along with some vitamin supplements. Have good quality food with necessary proteins and vitamins. You will become normal in another weak. Mind you bilirubin is the last thing to normalize. So don't worry about that. Alarm signs which one should keep in mind are - excessive sleepiness, bleeding manifestations and inability to eat anything. Take care."
        ],
        [
         "35",
         "If you are a doctor, please answer the medical questions based on the patient's description.",
         "My family has recently gotten the scabies mite... WE have cleaned our house top to bott om with hot soapy water, Rid, Used a cleaner on carpet/couch. we treated ourselfs with Permethern cream, Eurax, and i have used tea tree oils, poroxide, etc. Everyone but me and a older son has kicked it. I have went as far as sanding my skin....My question is what do I do to rid it once and for all SAFETLY! I was told Borax in a tub ....is that safe? HELP",
         "Can be very disturbing to get your entire household infested by scabies. Hygiene is the rule. Treating every sick person, washing and disinfection all linen as well as ironing would ensure that this bug is gotten rid of. So step up your personal hygiene after treating every affected individual and disinfecting all linen. I hope this ad . Feel free t ask for more information if needed. Thanks for using this panel for your questions."
        ],
        [
         "36",
         "If you are a doctor, please answer the medical questions based on the patient's description.",
         "Hi, didn t expect to get a real person, but since your are here, I will tell you about symptoms I have been having. I think they are panic or anxiety attacks, but who knows. I get a tight feeling in the back of my head that moves to my temples then down into my throat and eventually down the middle of my chest. I get very emotional when this happens and after all that, I can t catch my breath and my heart beats really fast. It usually goes away in 2 or 3 minutes, if I can sit down and concentrate on my breathing. I recently had an MRI and my heart was found to be OK......any ideas????",
         "Degree understand your concerns went through your details. I suggest you not to worry much. You are mistaken. We are human beings and are here to answer your queries. You can expect answer from a real person here. In anxiety attacks, obsession with a thought brings anxiety symptoms and then comes emotions. Before the symptoms comes, there is always apprehension. Anxiety attack or panic attack is always an after effect of anxiety. What is your reason for anxiety? Any fear, stress, molestation, health related worries? Find out and you shall get the answer. The answer shall help cure your condition. If you require more of my help in this aspect, Please post a direct question to me in this website. Make sure that you include every minute details possible. I shall prescribe the needed psychotherapy techniques which should help you cure your condition further. Hope this answers your query. Available for further clarifications. Good luck."
        ],
        [
         "37",
         "If you are a doctor, please answer the medical questions based on the patient's description.",
         "I fell on uneven sidewalk on July 3rd and hurt my knee: I had no problem walking and I didn t have much pain just bruising on my knee with tenderness. Now as the bruising is entering the purple/green phase I am starting to get a lot of swelling in my calf and ankle- what should I do ??",
         "You're swelling of foot and calf may be related to edema after injury. It is useful to keep limb elevated. Active toe movement will be useful to reduce swelling. Analgesic such as ibuprofen is useful to get relief from pain. You can discuss with your doctor about it. Hope your query get answered. If you have any clarification then don't hesitate to write to us. I will be happy to help you. Wishing you a good health. Take care."
        ],
        [
         "38",
         "If you are a doctor, please answer the medical questions based on the patient's description.",
         "Dear doctor, i am 33 male recently i have undergone pre employment medical check up and it was found that i have sgpt- 194 except this all test are absolutely normal test includes 1) CBC2. ESR and liver test 3. Urine Routine 4. Blood Group & Rh Factor 5. X-ray (Chest)6. General Physical Examination7. Fasting Blood Sugar &Post Prandial Blood Sugar8. Total Cholesterol9. ECG10. Serum Creatininenow they have advised me to got my ultrasound done full abdomen. i have got it done today and every thing is normal and they found mild fatty liver. Another thing i want to share that i was suffering from loose motions and was on Ofloxacin-200mg with ornidazole500mg B.D dosage (oflox OZ )medication for 2days and continued ofloxacin-200 B.D dosage (oflox) for another 3days as was suffering cold and cough also.now i need to go to gastro doctor to get the ultrasound reports checked. Just want to know what could be the reason for this elevated SGPT and will i get the clearance for joining new company.what should i do to lower my SGPT levels?? and what diet i should follow i am not a heavy drinker just take drinks occasionally and i am not fond of junk food as well.",
         "There is no role of antibiotic in this. Instead, you should take intestinal digestive enzyme supplementation.2) Elevated SGPT level indicate either liver function is weak or liver has too much load to work. Fatty liver is condition in which excessive fat get deposited in liver tissue and affect liver function. This is the reason for elevated SGPT level in your case.3) Fatty liver is due to high level of fat in blood stream secondary to lipid (fat)-rich diet. This might lead to elevated cholesterol level. Thus, it is recommended for you to undergo lipid profile test.4) Mild fatty liver is reversible condition. You should do - regular exercise, intermittent fasting (weekly once), high protein diet, low fat-diet, use of omega-3 fatty acid containing oil in food preparation, avoidance of alcohol intake. Your SGPT level can come to normal range with these measure in 15-20 days. Hope I answered your query. If you have any further question, I would be happy to help you. Have a nice day!"
        ],
        [
         "39",
         "If you are a doctor, please answer the medical questions based on the patient's description.",
         "Hello, My name is Wanda I am a 40year old female with type one diabetes (have had it for 7 years ) I have had a tooth infection in my gums for honestly on and off for about 2 years it swells up then bursts with yellowish clear pus above a tooth which needs to be pulled. I have felt like Ive had a sinus cold for the past few weeks and then discovered a sore on the inside of my left nostil.. could they be connected",
         "The roots of upper molars are in very proximity with the maxillary sinus above.Therefore, sometimes it becomes difficult to diagnose whether the patient presents pain due to tooth infection or sinusitis. But clinical evaluation with supporting x-rays makes it clear whether the origin of infection is teeth or sinus.Therefore, in my view please meet your dentist/ENT specialist for a sinus view x-ray. This will make things pretty clear.Meanwhile, do take good care of yourself.ET us know for further doubts. Thanks. Take care."
        ],
        [
         "40",
         "If you are a doctor, please answer the medical questions based on the patient's description.",
         "I had a partial root canal roughly 36 hours ago on my lower left rear molar (wisdom teeth extracted years ago).  The doctor drilled out the pulp (noting that it was mostly dead) and put on a temporary filling until the root canal specialist could see me.  Now, about 36 hours later, Im in quite a bit of pain again, both on the tooth that was operated on and in a molar on the top of my jaw and in the back jaw muscle.  My neck is rather swollen too and is tender to the touch.  I have plans to travel tomorrow by plane to see some family and go diving.  Is my condition something that requires immediate attention?  Should I not be flying or diving?",
         "Dead pulp inside a root canal is almost always infected with several bacteria. Now, while removing those dead pulp/ remaining tissue or washing the root canal, there is every possibility that some part of that infected material pushed through the root apex foramen(hole) to the surrounding area. Naturally that area become infected and in many instances the infection expressed as an acute infection of root apex area with pain and may be with swelling. It is called ENDODONTIC FLARE UP. It may happen in 50% patients after the cleaning of root canal. The dentist has no control over it. There is no need of postponing your travel schedule. You should start an antibiotic like Augmenting or same type (Amoxicillin 500 mg + Clavulanic acid 125 mg) 8 hourly for 5 days. Along with that you have to take Diclofenac 100 mg + Paracetamol 500 mg, 3 times a day in full stomach. If you have a history of excessive acidity, you have to take 10 ml of any liquid antacid before taking Diclofenac. Your pain will subside with in 2 to 3 days. But continue Antibiotic for 5 days. Best wishes."
        ],
        [
         "41",
         "If you are a doctor, please answer the medical questions based on the patient's description.",
         "My doctor had issue with finding the baby during my transvaginal ultrasound is that because I had to pee she could see the yoke sac and I measured 9 weeks but what she thought was the baby was measuring 7 weeks. I am just worried and want to know if that interfered",
         "As you might be aware that yolk sac is a structure attached with an embryo-baby, for its nutrition in early pregnancy. The reason for not finding the baby and only finding the yolk sac can be small pregnancy duration may be due to delayed ovulation and delayed conception. I will suggest you get a repeat ultrasound done after two weeks. Please start on Folic acid and vitamin B 12 supplements. Option for a healthy diet and regular exercise regimen. Hope I have answered your query. Let me know if I can assist you further."
        ],
        [
         "42",
         "If you are a doctor, please answer the medical questions based on the patient's description.",
         "I hit a volleyball this after with the underside if my hand (made a fist) it bent my wrist backward causing pain. Now about 7 hrs later it is still very painful to my hand backwards and all to put pressure on my wrist. These are fairly sharp pains. It does not hurt to pick things up or grip most objects. There is only pain when I move my hand. Thank you.",
         "Still possibility of fracture needs to be ruled out, and I would advise X-ray of involved wrist with hand anteroposterior and lateral views. Visit radiology center nearby you and get it done. If report is normal diagnosis is wrist sprain. Avoid game for 2 weeks and apply wrist binder for 3 weeks. Start tab diclofenac plus serratiopeptodase combination twice a day for 5 days for pain relief. If X-ray report is abnormal you need to consult expert orthopedic surgeon with report. All the best."
        ],
        [
         "43",
         "If you are a doctor, please answer the medical questions based on the patient's description.",
         "I have a pacemaker, due to atrial fibrillation, and have been put on coumadin. It does not seem to thin my blood, and am on 750 mg a day, and it makes me nauseous and extremely dizzy, to the point where I can t function. Are there any foods that help thin the blood? Also, do fish oils help or hinder the thinning process? I would really like to take less medication and get results that are favorable.",
         "So these should be consumed in moderate amount, since we can't stop green vegetables altogether. And importantly, daily this intake should be kept constant otherwise effects may fluctuate. Fish doesn't have significant effect on . Hope I have answered your query. Let me know if I can assist you further."
        ],
        [
         "44",
         "If you are a doctor, please answer the medical questions based on the patient's description.",
         "My younger brother liver & spleen got enlarged. Hepatitis B&C found in blood. Mild ascitis & SOL on both lube of liver found. His age is 15. Weight is 28 kg. He is having serious less appetite. I am attaching the all the reports. Please advice us how to proceed and the exact condition of the patient.Here two doctors said he will need a full liver transplantation...",
         "Your brother have both hepatitis b and c positive.... Your brother might have chronic liver affection with it can be cirrhosis liver associated... Morever you are mentioning space occupying lesion in liver... It should be investigated for malignancy as chance of development of hepatocellular carcinoma more if both B and C hepatitis present... For that contrast enhanced CT scan with AFP estimation can be done... If needed for confirmation USG guided biopsy might be needed.... Ultimate treatment for chronic liver problem is liver transplantation... Your report attached cant seen here in public questions... For more opinion you can consult gastroenterologist .... You can take follow up advise by using premium questions...Meanwhile, take low fat diet... Fruits taken more... Green leafy vegetables useful.... Take early in morning grinned spinach and carrot juice.... Hope you concern solved.... Take care.... ."
        ],
        [
         "45",
         "If you are a doctor, please answer the medical questions based on the patient's description.",
         "Hi Over the past 2 days I have had a sore jaw on the right side only. Doesn t feel sore on the outside of my face, but extremely tender on the tendon that attaches jaw together. Inside of cheek also appears swollen. Right side of tongue feels strange, and slightly sore to swallow also. I m 40 but my wisdom teeth never came in, could this be a cause?",
         "Usually, wisdom teet e in mouth at the age of 18 to 25 years. However, as you have never had them in mouth, it is possible that they might be impacted or locked in the jaw. As right side of jaw is causing you pain, let us focus on that only. Due to absence of physical space to come out in mouth or due to its improper position, it might be possible that the wisdom tooth of that side was locked in the jaw all this time and now might be impinging on the muscle of the mastication or nerve that supplies tongue causing you the pain and discomfort you are experiencing. It is also a possibility that a tooth might be decayed on the side of the jaw that is causing you problems, has developed an abscess that is causing these symptoms. In both cases, you need to visit a dentist to get an oral examination to find out if any tooth is decayed and taking x-ray of the wisdom tooth area to diagnose wisdom tooth related problem. By the time you ET an appointment of the dentist, Ibuprofen 400 mg thrice a day will help you in getting relief from pain. Please refrain from hot water gargles or heat compression as if the pain would be abscess related, it would worsen. I hope this information helps you. Thank you for choosing . I wish you feel better soon. Best,"
        ],
        [
         "46",
         "If you are a doctor, please answer the medical questions based on the patient's description.",
         "Hi, Can anyone give me the solution for Aplastic Anemia ? my 4 years old daughter suffering from Aplastic anemia since April 2010. Regards, Vinod",
         "There are different modalities. The treatments depend on severity of the problem. If it is less severe the immune-modulator medications-Antithymocyte globulin (ATG), cyclosporin (CSA), and cyclophosphamide are useful. She requires intermittent blood transfusions. If it is more severe, she needs Bone Marrow transplantation (BMT) from appropriate donor which is the definitive treatment. She needs conditioning before transplantation with ATG/cyclophosphamide so that the graft (BMT) will not be rejected. You can refer to the article in emedicine.medscape.com: This is the URL of article:http://emedicine.medscape.com/article/198759-overview."
        ],
        [
         "47",
         "If you are a doctor, please answer the medical questions based on the patient's description.",
         "I HAVE HAD SEVERAL TIAS BEFORE THE AGE OF 40 AND JUST RECENTLY I HAD DIFFICULTIES ORGANSIZING MY THOUGHTS AND THEN TRYINGTO SAYING WHAT WAS IN MY BRAIN HAPPENED APRIL 15 AND THEN THE NEXT DAY WHEN I ANSWERED THE PHONE WERE I VOLUNTEERED IT HAPPENED AGAIN; I COULD NOT SAY GOOD AFTERNOON SHIRLEY SPEAKING HOW MAY I HELP YOU. ANY SUGGESTIONS WHAT I WAS EXPERIENCING?",
         "Mariano Into Bruno Mascaras. I have gone through your query with diligence and would like you to know that I am here to help you. Q1 : ANY SUGGESTIONS WHAT I WAS EXPERIENCING? A1 : This is probably Multi Infarct DementiaFurther Course of Treatment depends on Clinical Examination, Funds Examination, MUSE, Radiological Evaluation. Please Consult a neurosurgeon in person Hope you found the answer helpful. If you need any clarification / have doubts / have additional questions / have follow-up questions, then please do not hesitate in asking again. I will be happy to answer your questions. In the future, for continuity of care, I encourage you to contact me directly in at http://bit.ly/ask"
        ],
        [
         "48",
         "If you are a doctor, please answer the medical questions based on the patient's description.",
         "My son is 1 yr 8 months old...he is not walking on his own...so dr suggested MRI n MRI report shows .ventricular system appears mildly prominent,normal in shape position and signal morphology,cisternal and sulcal spaces are mildly prominent,small faint hyperintense areas noted in bilateral periventricular frontal and Pareto occipital regions.rests things are normal....pls tell me wat does it means",
         "Their mentation and IQ will be perfect, but they will have problems with their legs and walking. Usually there won't be any problem with the hands. This condition is called - Spastic Diplopia and is amenable for physiotherapy. Please do not worry as the kid will get better with physiotherapy. Regards -"
        ],
        [
         "49",
         "If you are a doctor, please answer the medical questions based on the patient's description.",
         "Hi. My 18month old has had red and swollen eyes for about 5 days. I took him to his doctor and they have no idea what is wrong. His eye itself is unaffected. It seems to be isolated to the outside of the eye (eye lid, and beneath. Just last night he broke out in a rash all over his body. I need ANSWERS badly. Can you help?",
         "I'm a pediatrician. From your description I think he might be having present orbital cellulitis. In this condition soft tissue around eye is infected. Baby will be toxic and having high fever. Eyes may be swollen, it massive be difficult to open eye. Rash on rest body might be due to . Consult ophthalmologist and pediatrician. If it is really orbital cellulitis then baby might be needing admission"
        ]
       ],
       "shape": {
        "columns": 3,
        "rows": 200
       }
      },
      "text/html": [
       "<div>\n",
       "<style scoped>\n",
       "    .dataframe tbody tr th:only-of-type {\n",
       "        vertical-align: middle;\n",
       "    }\n",
       "\n",
       "    .dataframe tbody tr th {\n",
       "        vertical-align: top;\n",
       "    }\n",
       "\n",
       "    .dataframe thead th {\n",
       "        text-align: right;\n",
       "    }\n",
       "</style>\n",
       "<table border=\"1\" class=\"dataframe\">\n",
       "  <thead>\n",
       "    <tr style=\"text-align: right;\">\n",
       "      <th></th>\n",
       "      <th>instruction</th>\n",
       "      <th>input</th>\n",
       "      <th>output</th>\n",
       "    </tr>\n",
       "  </thead>\n",
       "  <tbody>\n",
       "    <tr>\n",
       "      <th>0</th>\n",
       "      <td>If you are a doctor, please answer the medical...</td>\n",
       "      <td>I woke up this morning feeling the whole room ...</td>\n",
       "      <td>The most likely cause for your symptoms is ben...</td>\n",
       "    </tr>\n",
       "    <tr>\n",
       "      <th>1</th>\n",
       "      <td>If you are a doctor, please answer the medical...</td>\n",
       "      <td>My baby has been pooing 5-6 times a day for a ...</td>\n",
       "      <td>It seems your kid is having viral diarrhea. On...</td>\n",
       "    </tr>\n",
       "    <tr>\n",
       "      <th>2</th>\n",
       "      <td>If you are a doctor, please answer the medical...</td>\n",
       "      <td>Hello, My husband is taking Oxycodone due to a...</td>\n",
       "      <td>Medications can only affect a fetus if you tak...</td>\n",
       "    </tr>\n",
       "    <tr>\n",
       "      <th>3</th>\n",
       "      <td>If you are a doctor, please answer the medical...</td>\n",
       "      <td>lump under left nipple and stomach pain (male)...</td>\n",
       "      <td>You have two different problems. The lump unde...</td>\n",
       "    </tr>\n",
       "    <tr>\n",
       "      <th>4</th>\n",
       "      <td>If you are a doctor, please answer the medical...</td>\n",
       "      <td>I have a 5 month old baby who is very congeste...</td>\n",
       "      <td>I would suggest that you see your doctor. Your...</td>\n",
       "    </tr>\n",
       "    <tr>\n",
       "      <th>...</th>\n",
       "      <td>...</td>\n",
       "      <td>...</td>\n",
       "      <td>...</td>\n",
       "    </tr>\n",
       "    <tr>\n",
       "      <th>195</th>\n",
       "      <td>If you are a doctor, please answer the medical...</td>\n",
       "      <td>i am taking glycomate sr igram at night before...</td>\n",
       "      <td>Mira, As you have not mentioned the duration o...</td>\n",
       "    </tr>\n",
       "    <tr>\n",
       "      <th>196</th>\n",
       "      <td>If you are a doctor, please answer the medical...</td>\n",
       "      <td>My mother is having lightheadiness and heart p...</td>\n",
       "      <td>Heart rate and blood pressure can be normal in...</td>\n",
       "    </tr>\n",
       "    <tr>\n",
       "      <th>197</th>\n",
       "      <td>If you are a doctor, please answer the medical...</td>\n",
       "      <td>I am 27 years old female. I am having right lo...</td>\n",
       "      <td>I am answering your query. From your history, ...</td>\n",
       "    </tr>\n",
       "    <tr>\n",
       "      <th>198</th>\n",
       "      <td>If you are a doctor, please answer the medical...</td>\n",
       "      <td>Respected Sir,My name is Nishanth singh gurung...</td>\n",
       "      <td>The sensitivity in the tooth can be because of...</td>\n",
       "    </tr>\n",
       "    <tr>\n",
       "      <th>199</th>\n",
       "      <td>If you are a doctor, please answer the medical...</td>\n",
       "      <td>Hi, I m 38 years old and due to a gun shot thr...</td>\n",
       "      <td>First thing is you cannot wear a denture which...</td>\n",
       "    </tr>\n",
       "  </tbody>\n",
       "</table>\n",
       "<p>200 rows × 3 columns</p>\n",
       "</div>"
      ],
      "text/plain": [
       "                                           instruction  \\\n",
       "0    If you are a doctor, please answer the medical...   \n",
       "1    If you are a doctor, please answer the medical...   \n",
       "2    If you are a doctor, please answer the medical...   \n",
       "3    If you are a doctor, please answer the medical...   \n",
       "4    If you are a doctor, please answer the medical...   \n",
       "..                                                 ...   \n",
       "195  If you are a doctor, please answer the medical...   \n",
       "196  If you are a doctor, please answer the medical...   \n",
       "197  If you are a doctor, please answer the medical...   \n",
       "198  If you are a doctor, please answer the medical...   \n",
       "199  If you are a doctor, please answer the medical...   \n",
       "\n",
       "                                                 input  \\\n",
       "0    I woke up this morning feeling the whole room ...   \n",
       "1    My baby has been pooing 5-6 times a day for a ...   \n",
       "2    Hello, My husband is taking Oxycodone due to a...   \n",
       "3    lump under left nipple and stomach pain (male)...   \n",
       "4    I have a 5 month old baby who is very congeste...   \n",
       "..                                                 ...   \n",
       "195  i am taking glycomate sr igram at night before...   \n",
       "196  My mother is having lightheadiness and heart p...   \n",
       "197  I am 27 years old female. I am having right lo...   \n",
       "198  Respected Sir,My name is Nishanth singh gurung...   \n",
       "199  Hi, I m 38 years old and due to a gun shot thr...   \n",
       "\n",
       "                                                output  \n",
       "0    The most likely cause for your symptoms is ben...  \n",
       "1    It seems your kid is having viral diarrhea. On...  \n",
       "2    Medications can only affect a fetus if you tak...  \n",
       "3    You have two different problems. The lump unde...  \n",
       "4    I would suggest that you see your doctor. Your...  \n",
       "..                                                 ...  \n",
       "195  Mira, As you have not mentioned the duration o...  \n",
       "196  Heart rate and blood pressure can be normal in...  \n",
       "197  I am answering your query. From your history, ...  \n",
       "198  The sensitivity in the tooth can be because of...  \n",
       "199  First thing is you cannot wear a denture which...  \n",
       "\n",
       "[200 rows x 3 columns]"
      ]
     },
     "execution_count": 13,
     "metadata": {},
     "output_type": "execute_result"
    }
   ],
   "source": [
    "df_cleaned.head(200)"
   ]
  },
  {
   "cell_type": "code",
   "execution_count": 14,
   "id": "4963bd1b",
   "metadata": {},
   "outputs": [
    {
     "data": {
      "application/vnd.microsoft.datawrangler.viewer.v0+json": {
       "columns": [
        {
         "name": "index",
         "rawType": "int64",
         "type": "integer"
        },
        {
         "name": "instruction",
         "rawType": "object",
         "type": "string"
        },
        {
         "name": "input",
         "rawType": "object",
         "type": "string"
        },
        {
         "name": "output",
         "rawType": "object",
         "type": "string"
        }
       ],
       "ref": "3eae9503-fd75-4302-847e-ad1cc314efcb",
       "rows": [
        [
         "111965",
         "If you are a doctor, please answer the medical questions based on the patient's description.",
         "I have problem wih my gall bladder. I have checked and Ultrasound that shown I have implamation gall bladder. Many time I feel pain the stomach right side. I also very easy to get tired when doing exercise or activity. And easy to get headache  and spinning. When I visited internist, they gave me very high antibiotic and anti acid. I feel not good if taking antibiotic all the time.... I need something make me better and can do activity more..",
         "I am , I understand your concerns and I will try to help you as much as I can. Yes, this is probably so-called cholecystitis and this is inflammation of gallbladder due to stones in it. You should do at least ultrasound or CT scan to evaluate it more accurately. This is caused by stone in bile duct and is very common condition. Surgery is recommended in this case and if you don't want it now then you need to change your dietary habits first. You need to avoid fried food, carbonated . You should eat more milk products, vegetables and boiled food. If there is no improvement on lifestyle or dietary changes, then surgery is recommended. Other causes include pancreatitis or pleuordinia and should be considered if gallbladder stones are ruled out. I hope I have answered you query. If you have any further questions you can contact us in every time. Kindly regards. Wish you a good health."
        ],
        [
         "111966",
         "If you are a doctor, please answer the medical questions based on the patient's description.",
         "I have a question concerning my mother. She is traveling by car to me with my grandmother today and while she was driving the car her limbs started shaking uncontrollably to where she could barely pull the car over. She also is having pain in her knee and is now feeling sick to her stomach. She did take some ibprofin a little bit ago and is seeming a little better as time goes on. but we want to know if we should take her to the ER or just a regular doctor because my grandmother says it looked like she was having a seizure. and while shaking she said her eyes were watering excesssively.",
         "On the other hand, if your mother was simply in a lot of pain but has perfect recollection of the situation including any conversations that people were having with her including questions they were asking her while she was pulling over then, she may have simply been in severe pain. If this were the case then, taking her to her doctor first may be satisfactory in a few days. In any case, I would not allow her to . Take Care!"
        ],
        [
         "111967",
         "If you are a doctor, please answer the medical questions based on the patient's description.",
         "Hi, I have a lump about the size of pea right beside the base of my penis, it is completly under the skin and has shown no signs of coming through the the skin like a pimple would. I am a 19 year old male, 5 foot 10 and 170 pounds, with an athletic build. I hope that is enough information, if I m missing anything, please let me know.",
         "For how long this lump is there.? Is it decreasing or increasing in size.? Does it increase in size while coughing.? Do you have fever.? Do you diabetes.? If I were your treating physician I would have ruled out sebaceous cyst by skin pinch and fluctuation test. This cyst arises due to blockage of sebaceous glands duct which secretes sebum. Sebum lubricates the hair. It is common in this area.it is treated by excision surgically. Other possibilities areMycetoma which is fungal infection caused by actinomyces.it is treated by antifungals such as ketoconazole or fluconazole. Inguinal hernia can also cause lump in this area which is diagnosed clinically by cough impulse, and ring occlusion test. Thanks. Hope the answer is helpfulness asking us at . Regards"
        ],
        [
         "111968",
         "If you are a doctor, please answer the medical questions based on the patient's description.",
         "Hi, my mum has a persistent cough after having relatively serious cold/flu like symptoms last week. She was light headed and in bed for several days. She is a smoker who recently had her thyroid out ( small amount of cancer at the centre) and last night at a work function someone mentioned to her that he cough sounded like lung spurs caused by peumonia. Apparently this person had suffered something similar with this diagnosis. My mum insists she is starting to feel better but I am concerned that she needs to visit a Dr which she keeps avoiding. What are lung spurs and could these synptoms indicate she has something more than a cold/flu? She is 62 years old, a little overweight but not majorly and she has a golf ball sized growth on the rhs of her neck. Apparently it is benign, but it was tested a long time ago and appears to me to keep growing. she was meant to have it removed through surgery at the start of the year but has avoided that too. Thanks.",
         "Spurs, by medical definition is a short pointed growth or process on a part of the body. With your moms case, it could be calcium deposits, accumulating causing this process. Calcium deposits are small accumulations of calcium, which can accumulate anywhere in your body. These create bone spurs, kidney and gall stones, and, in the shoulder, tendonitis. Many calcium deposits don't require medical treatment (they can even be reabsorbed right back into your body). In the lungs, however, they can be a sign that you have a serious underlying condition that is causing them to form. While calcium deposits in the lung are usually benign (non-cancerous), they can become malignant. Calcium deposits should be monitored both to prevent cancer, and because many of the conditions that cause calcification are also serious."
        ],
        [
         "111969",
         "If you are a doctor, please answer the medical questions based on the patient's description.",
         "I am having chest congestion for the past one week . I was being treated with Erythromycin.Now the infection seems to be better, however after a week of clear phlegm, I notice that my phlegm seems to be tiinged with slight trace of blood. What is the reason for this?",
         "Maintain oral hygiene as sometime gum bleeding might be the cause Complete the course of prescribed antibiotic and decongestant Chest x-ray digital in PA view can be done here If no improvement than sputum cytology and further suitable work up needed To Take care Consult pulmonologist for examination with keeping all this in mind"
        ],
        [
         "111970",
         "If you are a doctor, please answer the medical questions based on the patient's description.",
         "Three weeks ago a metal rail hit my shins (both legs same spot). They are both painful, red and swollen & have a knot at the point of impact, however the right leg is worse and now it hurts to walk on it and the swelling has spread to my right ankle. My mom was hit in the same spot (we were standing next to each other), however after a little bruise her legs are fine. What could this be?",
         "I suggest using anti-inflammatory medications such as Naproxen to relieve the pain. I also suggest using cold compresses and a light bandage to treat the inflammation. The symptoms should go away on it own. Meanwhile, I suggest returning and avoid activities that can trigger the symptoms. Hope I have answered your query. Let me know if I can assist you further. Take care ."
        ],
        [
         "111971",
         "If you are a doctor, please answer the medical questions based on the patient's description.",
         "I am suffering from a severe itchy rash which in some areas is taking the form of bruises. I have had the rash for a month and it continues to spread. My family doctor put me on a steroid and when I was finished with steroid the rash spread more. It s covering mt stomach, arms, legs, neck and back, and itches like crazy. Today I am feeling nausea and have diarrhea . At this time I m taking Zyrtec and Benedryl which I have to take every 3 hours to help with the itch. Please help. Thank you YYYY@YYYY",
         "The steroids effected your digestive systemic fact it was misdiagnosed scabies is likely accordingly take anti-allergic fexofenadin BD apply lotion or scabies at night for 7-10 night according to response in moving wash and oil clothes and bed materials before using it against morning can use ointment for controlling itching due to scabies you may require for 4-6 wk take basting 10 mg OD for 3-4 wk to control itch"
        ],
        [
         "111972",
         "If you are a doctor, please answer the medical questions based on the patient's description.",
         "my right side of the cheek is swollen a bit, i have a broken tooth underneath the swelling . i m working to get my status number and health number to see the dentist . I don t know if they will help me with the problem. it doesn t hurt as much today and the swelling went down a little. I m concerned it will get worst if i dont do anything about it. what can i do today to take care of it?",
         "Infected broken tooth can lead to pain and soreness of cheeks and jaws. Constant cheek irritation by broken tooth can also cause pain and tenderness. If tooth is broken, then you need treatment for your broken tooth. If nerve of the tooth is not exposed, then tooth can be restored with dental filling or crown but if nerve of the tooth is exposed or necroses, then root canal treatment followed by dental crown is required for the tooth. If tooth is badly mutilated, then post and core procedure is required after root canal therapy. If broken tooth is unrestorable, then tooth extraction followed by replacement of missing tooth with dental implants or dental bridge is required. Only pain meds will be of little help. Hot compresses are not indicated as they will aggravate the swelling. You can do warm saline rinses to reduce the swelling. You need to get treatment done for infected tooth. If you have cost constrains, then you can visit a dental school where treatment is done by dental students under supervision of experienced dentists. You can also look for free dental clinics near you or can talk to your local dentist if you can pay in installments for treatment. By the time you visit your dentist, you can avoid eating from side of broken tooth. You can also apply travel for some relief. Maintain good oral hygiene to avoid any secondary infections"
        ],
        [
         "111973",
         "If you are a doctor, please answer the medical questions based on the patient's description.",
         "hi im 24 weeks pregnant and i use to smoke before i knew i was pregnant..i havent smoked since i found out but im suffering from withdraw an i need 2 just smoke one time...how much will that effect my baby...this would b the first time me smoking since i ve been pregnant",
         "Smoking in pregnancy is hazardous to both mother & child. Smoking in first 3 months increases chances of fetal abnormalities, specially heart problem. Smoking in early months of pregnancy carries risk of placental complications, abortion, premature deliver, low birth weight, future obesity, future smoking addiction. Mother also is exposed to pregnancy induced hypertension after smoking in pregnancy followed by further complications like toxemia of pregnancy. * Its good that you have totally quit smoking at present. You need not start it again to satisfy uncontrollable urge to do so. Trey self-control/ counseling/ chewing clove/ beetle nut as an alternative. DO NOT start smoking again. - AS you had smoked in early months, it's better to assess babies status as far congenital defects with investigations like 3D USG scan & follow doctors advise as far as its management is concerned."
        ],
        [
         "111974",
         "If you are a doctor, please answer the medical questions based on the patient's description.",
         "I have a history of pulmonary emboli and dvt in dec 2010 and a history of 3 abdominal surgeries, all with infection. I am in desperate need of a knee replacement. How high of a risk am I? I am 66 years old. no hx. of stroke or cardiac problems. My poor health is mostly related to arthritis OA and fibromyalgia. I have very limted movement and even that is very painful.",
         "You need to focus on some small exercises to get strength in your muscles. The risk of TKR is not big and 99% of the times successful. Still I will recommend you to undergo a physical therapy session for some days before undergoing a surgery. As the physical therapist will help you to regain strength in the muscles which later post surgery will recover faster. Kindly focus on doing more of static quads, hams, atm, SLR and core strengthening. The body works as a unit. So please focus on strengthening the muscles on both sides of the body which will help you the best outcome for knee replacement. I wish you a speedy recovery. Thank you"
        ],
        [
         "111975",
         "If you are a doctor, please answer the medical questions based on the patient's description.",
         "I am 65 and have been diagnosed with stage 4 follicullar lymphoma. it has spread fast and is causing plural enfusions in my left lung. i have had bypass surgery 8 yrs ago and only have one kidney. however i am in good physical shape, What is my prognosis?",
         "I hope you are under required treatment for follicular lymphoma. Follicular lymphoma prognosis varies with the risk factors. The high risk factors are age above 60 years, stage III or IV disease, more than 4 groups of lymph nodes involved, blood hemoglobin less than 12 gram/ DL and raised serum LDH level. As you have at least 2 of the above therefore you are under intermediate risk. At intermediate risk, patients with follicular lymphoma under treatment might have 78 percent survival at 5 years and 51 percent survival at 10 years. Follicular lymphoma is a slow growing type of lymphoma which responds very well to treatment, but can rarely be cured. Despite the fact that it cannot be cured, the prognosis is generally very good, and the median survival is about 8-15 years in many people who have it."
        ],
        [
         "111976",
         "If you are a doctor, please answer the medical questions based on the patient's description.",
         "a small lump has formed near my anus region, though its not visible but it can be felt when pressure is exerted when passing stool and has to be manually pushed inside, i am just 24 years old and due to crazy working hours i eat out daily, is it an external hemorrhoid ???",
         "Cause and plan of Treatment-In my opinion on the given data, you seem to have Intero-External piles. Treatment would be-by High Ligation Excision by heamorrhoidectomy by your ER Surgeon. Consult Er Surgeon who would treat accordingly. So don't build up wrong concepts and self-medicate your self which would increase risks and costs to you.Instead, just ask a query to and be comfortable to resolve your health issues. Welcome for any more query in this regard to . Write good reviews and Click thanks if you feel satisfied with my advice. Have a Good Day. . N."
        ],
        [
         "111977",
         "If you are a doctor, please answer the medical questions based on the patient's description.",
         "hi doctor ...due to childhood habits now my dick is not properly stand and sperm also come fast..with in ten fifteen shake ...kindly provide me better solution so that i can help my family ............thanks doctor pls help me pls and provide me better solution",
         "Please note that premature ejaculation is due to anxiety and not due to any organic cause. Following measure will help you to boost up your confidence and getting good erection. And delay ejaculation.1) Practice regular exercise for 45 minutes followed by meditation for 1/2 an hour in the morning.2) Take high protein diet rich in vegetables and fruits and vitamin A, C,D, E.and Zinc3)Take anti oxidants like Almonds 5-6 every day.4) Avoid alcohol and smoking. If you are married Taking Sildenafil (Viagra)as on demand will help to get good hard sustainable erection and to have enjoyable sex. . ."
        ],
        [
         "111978",
         "If you are a doctor, please answer the medical questions based on the patient's description.",
         "ALLERGY - Respiratory . Hello, my uncle (65 yrs) has been having sinusitis for the past 30 years. About 6 months ago, he had a new consisting with a bit of cough + phlegm building on his throat . So far, the meds that my uncle was prescribed until now wereAerius / Telfast / Clarinese / Xyzal. Recently, he was given ampules for own injections (daily) just in case his allergy got worse. The doctor that prescribed didn t want to let us know the meds ingredients. So far, after getting the injections, my uncle s allergy was getting better. But we re curious WHY the doctor didn t want tell us about the meds. Our question, is there such thing as INJECTION medicine intended for allergy purpose? Also.. recently, my uncle was prescribed with another meds -- Singulair, on top of those meds above + the injection meds. Please advise.",
         "Yes there is an emergency injection that can be taken subcutaneously in an emergency and is sometimes handed over to patients for use in an emergency. Rest of your medications are for asthma and allergy. His doctor has probably not told him details of the injection because it may unnecessarily create anxiety if he reads about it. I am sure his doctor would have told him how to use the injection and what to expect. If he is a specialist, I am sure he knows what he is doing, and you must trust him. Regards"
        ],
        [
         "111979",
         "If you are a doctor, please answer the medical questions based on the patient's description.",
         "I have had this issue for 2 years and my doctors still aren t sure what is going on.My lower legs swell, are discolored, warm and tender, with pain shocks lasting only seconds. I have RA and had a tendon replaced in my foot 5 years ago. I had tests ran by a vein specialist, shows no clots, GOOD blood flow and heart beat. My doctor says no infection or diabetes. The vein specialist said leaking veins.This continues to get worse. I was taking Cimzia for my RA and have stopped for 5 weeks now under doctors direction. Still no relief. I have been taking methotrexate still for RA.",
         "From your given history your swelling could be due to an old trauma, cardiac or renal problems. If your edema is bilateral this is a sign of underlying systemic disease if cardiac output exceeds its output (heart failure) or your kidneys cannot wash or flush your venous system .in rare cases your medication may cause such symptoms if used for long periods. You have to maintain leg elevation, avoid standing or bending your knees for a long time and use hot foments with topical gels of anti-inflammatory.wearing compression stockings will be helpful to push up blood towards the heart and increase your venous return. If you have not examined your arterial system by Doppler U/S you may need to check them up in very rare cases arterial system clots or atherosclerosis may occur and cause such edema. I recommend full lab investigations and follow them up with your physician for proper evaluation and management of the exact underlying cause. Please click and consider a 5-star rating with some positive feedback if the information was helpful. Wish you good health, Any further clarifications feel free to ask."
        ],
        [
         "111980",
         "If you are a doctor, please answer the medical questions based on the patient's description.",
         "Hi, I am 16 years old. I hurt my knee 3 weeks ago playing soccer and the doctor just said it was a small sprain. It still hurts today and I feel like my knee is going to give out while walking up and down steps. It also hurts when I stand up or when I m bending my knee while laying down. It s my right knee in the central left side of the knee. any idea what this could be?",
         "In addition to the ligament on the sides of the knee, there are cartilaginous discs inside called menisci and a ligament which connects the two bones of the knee. As you are having a giving way of the knee, its possible you have an injury of this main ligament. An MRI is necessary to study the internal aspects of the knee and physical exam of the knee. Hope I have answered your question. Let me know if I can assist you further."
        ],
        [
         "111981",
         "If you are a doctor, please answer the medical questions based on the patient's description.",
         "doc i have pain on the right side of stomach i.e. i think on the right kidney..the pain pinches me lik nethng...i cant walk straightly coz of this pain...i went to a doc nearby he adviced me for a urine test and ultrasound...urine report was normal but in ultrasound it showed that there might be a grain sized stone which got passed out through urine but there  is swelling in the kidney...i had treatment for ths thing but aftr few days again i got the similar pain ...i dnt knw wat to do ....i m getting irritated by ths...plz help me..n suggest me some solution",
         "Stone are many types like calcium phosphate, calcium oxalate, cysteine etc...it causes severe pain that can lead to nausea an n vomiting and also hematuria. If u were my patient I would like to do USG abdomen pelvis again n do urine R/E and also do CT if needed BCS some stone are only visible on CT m may easily miss by USG. After DX then I'll give some antibiotic for infection that caused by stone, painkiller n ask to"
        ],
        [
         "111982",
         "If you are a doctor, please answer the medical questions based on the patient's description.",
         "Hi. My girlfriend is telling me she might be pregnant. She went to a doc and took a urine pregnancy test which apparently is weakly positive . She is also telling me her doc advised her to take Norethisterone Tablets IP Primolut-N . But I googled and it says should not be taken during pregnancy. Please advise,",
         "Primulot-N (Norethisterone) is a synthetic form of female hormone progesterone commonly prescribed to postpone the period and to regulate ovulation and menstruation. If taken during pregnancy it actually helps to support and maintain an early pregnancy and also reduces the risk of miscarriage or preterm delivery. Hope I have answered your query. Let me know if I can assist you further. Take care."
        ],
        [
         "111983",
         "If you are a doctor, please answer the medical questions based on the patient's description.",
         "Myself age 20. worried from pimples and blackheads from age16.having oily skin.",
         "Amarjeet..., ., Thanks query......and why you are worrying about pimples., It is common in your age..., Very good treatment is available...,1) Frequent washes of face .4times daily with Triclosan and Zn oxide soap CNIL or Acnex2) Topical treatment of Clindamycin cream... Clindac. A gel3) Oral antibiotics.... Tab Doxycyclines 100 mg.daily for 15 days4) Topical Comic acid cream for nighttimes.... Follow this treatment ...get good result..., Dont touch the face with your hand and nail...Don't pinching the lesions...o.k... good luck"
        ],
        [
         "111984",
         "If you are a doctor, please answer the medical questions based on the patient's description.",
         "I have had type 1 diabetes for 46 years and been on an insulin pump for 29 years. I had a CT which showed I have a blockage in my Superior Mesentric Artery that is stopping blood flow to my upper stomach and pancreas. I do not have high chlorestal and have always eaten a healthy diet. A1C is 6.3. am having a ultrasound next week and probably a stent put in. When the radiologist did the CT I had a reaction to it and he said I would be better off not to have that or an MRI done as each time the reaction is worse. Dont they have to use the dye to put the stent in and what do I expect for my future health concerning this?",
         "The other alternative is surgery which is far more morbid. Also, the used during stenting is similar to what they used previously in CT. So do discuss it with your doctor, so he may take precautions before the procedure and preferably use alternative dye. Yes follow-up MRI would be better in your case for Evaluation. Regards"
        ],
        [
         "111985",
         "If you are a doctor, please answer the medical questions based on the patient's description.",
         "I have a 1-2cm bony lump on outside of fibula bone above my ankle. Have had pain and inflammation which is often worse at night or after mild exercise. Very painful. Also bony lump is hard but tender. Had X-ray and told no obvious fracture . Could it be tumour of some kind and not be noticed on standard X-ray?",
         "As per the history I feel it will be just a normal bony tissue and nothing much to worry. Since it is giving pain, this might be the change in the normal muscle physiology and biomechanics. Due to the lump there will be pressure applied in a different pattern and the pain is arising. Having a thorough clinical examination of the lump & CT SCAN can help us understand in-depth. In my clinical practice most pains are just muscular and can be helped with therapeutic ultrasound therapy and TENS therapy. Also, it won't be a bone tumor but just to clear your doubt a CT scan can be taken to rule out the doubt. Regards Jay In ."
        ],
        [
         "111986",
         "If you are a doctor, please answer the medical questions based on the patient's description.",
         "Hi, I ve was in an auto accident about back in April where I was at a complete stop and someone struck the rear of my vehicle going about 30 miles per hour. I know I ve had swelling and pain in my lower back and have been taking Ibuprofen and Neproxan to help that (no.. I didn t go the the ER or see a doctor but lower back pain is common with this type of injury and a few months earlier I hurt my lower back where the Dr said that there was swelling in that area). That has helped me to move around and function. My question is, would the pain cause phantom pain on my left side around my hip (not hip.. a little higher) area? You know where you put your hands on your hips but your hands are above the hip.. right there is so uncomfortable that it hurts to roll over or turn. What do you think (besides going to see a Doctor). :)",
         "As you mentioned you faced an accident and after which you are having a pain in the hip. As reading your history, I can understand that you were hit from behind, and then you had a fall. Now to understand this mechanism, you need to understand some physics here. As when you are hit from behind, your body is not prepared to take the force applied on it. Also, due to the hit from the back, the body has gone into extension in the spine level and later on fallen down. So there might be chances of soft tissue injury which needs an assessment. Also, an MRI of the lumbar spine is advised. I agree to you, that most RTA will have back pain, and all are not serious, but without examining deciding on a general term is a baseless understanding. Taking self-medication is also not advised, as if the injury is big you may be trying to reduce the pain, but the other factors of the soft tissue injury will be present and may get worsen as well. I will advise to get your spine assessed, as spine is an important segment in the human body and needs a real attention. Also to understand that, due to any injury now, the later disadvantages are present. After all it's totally your call and you can decide better. RegardsJay In ."
        ],
        [
         "111987",
         "If you are a doctor, please answer the medical questions based on the patient's description.",
         "Hi. I am female of 25 years old. I have been married past 1 and half years. We were in planning stage. But since from two months we are trying for a baby. Last month we tried intercourse regularly that is i between 10 th day to 20th day. As We were knowing that ovulation occurs in between 12 to 16th day. During intercourse all the semen completely ejected into vagina. After sometime means after a hour it starts spilling out. We were in a hope that this month we can get a positive results but it was in a vain. And also the peneteration was medium. Let me know what is the reason of not getting conceive?",
         "In normal healthy couples, it can sometimes even take up to a year to conceive. 80% of couples will conceive within one year if having regular unprotected intercourse (at least 2 to 3 days per week). It is best not to time the efforts of intercourse around ovulation unless you have accurately documented the ovulation date, with an ovulation predictor kit or with hormone levels checked at the doctor's office. The best way to try to conceive in the beginning is to have sex every other day from the time your period finishes until you start to feel premenstrual symptoms. Premenstrual symptoms are caused by the same hormones as produced by pregnancy, so when you start to feel bloating, breast tenderness, nausea, or other pregnancy symptoms you do not need to continue to try to conceive that cycle, as you either already ovulated or are already pregnant. There are nearly 6 million sperm in every ejaculate from a man, so as long as some sperm is ejaculated inside the vagina, there is a possibility of conceiving. Many women have sperm leak out after intercourse, however the ability of sperm to swim within the vagina ensures that a man with a normal sperm count has at least thousands of sperm that reach the egg if ovulation has been taking place. So in summary, many couples do not conceive within two months of beginning to try. I encourage you and your husband to have patience. In the meantime, the best way to prepare for healthy pregnancy is to get adequate rest, eat a healthy diet, avoid alcohol consumption, and take a prenatal vitamin or folic acid supplement which can help prevent birth defects. I hope I was able to adequately answer your question today, and that my advice was helpful. Best wishes,"
        ],
        [
         "111988",
         "If you are a doctor, please answer the medical questions based on the patient's description.",
         "I have a lump that forms at the base of the back of my neck, top of spine that forms and causes a steady droning pain up the back of skull. Going back to massage therapy which should reduce it. What is causing this to form? I am female and 50 years old.",
         "You may have lipoma, Desmond cyst or some skin adnexal tumor. You should go for fine needle aspiration cytology of that lump. Excision is the treatment of choice. Consult your doctor and take treatment accordingly. Hope I have answered your question, if you have doubt then I will be happy to answer. Thanks for using . Wish you a very good health."
        ],
        [
         "111989",
         "If you are a doctor, please answer the medical questions based on the patient's description.",
         "My adult daughter has had a cold for over a week now and I told her to go to a clinic and get a steroid shot to dry up the cold.  I have been given this in the past when I had a cold that just wouldnt end and it really worked.  Why wouldnt the doctor give her a shot.",
         "Since this is common and main reason is allergy. Allergy produce bronchoconstriction and this develop cough. So when such patient visit I prescribe my patient to take montelukast+albuterol (10 mg in each salt) , one tablet / day and patient respond at once. If cough is severe then also use chlorampheniramine + AEROSOL + menthol cough syrup. So don't use steroid, rather avoid it. This is a prescription . Hot coffee and steam inhalation is also very good."
        ],
        [
         "111990",
         "If you are a doctor, please answer the medical questions based on the patient's description.",
         "My 2 year old has been ill for a few days now not really temperature but hot and clammy. She has had bad diorreah for about 4 days and wont each much food. She has really bad breath and smells ill. Is very irritable and upset cant sleep very well. been giving calpol. could this be tosilitis?",
         "I have gone through your query and can understand your concerns. As per your complaint bad breath along with being cold and clammy seems to be due to Viral Infection that is common in toddlers. Do not worry, she will be fine soon.-Continue giving Tylenol to relieve fever.-Feed with plenty of warm fluids and give a soft and semisolid diet.-Avoid spicy, chilled foods.-Give appropriate rest. In case of no improvement in a week consult a Pediatrician and get her evaluated. Hope this information helps. Thanks and regards. ."
        ],
        [
         "111991",
         "If you are a doctor, please answer the medical questions based on the patient's description.",
         "hi i am 31, i have a tingling sensation int he tip of my penis, like some urine is trapped there, a couple of times while going to urinate it has been blocked and forced through, i have noticed a small discharge in tip at times. i had sex about 2 1/2 months ago but this has only been for around a week.",
         "Looking at your description this could be STI or infected ulcer may be due to trauma during masturbation or an allergic reaction. Another possibility is prostate problem or a Renal stone would like further information help you better relevant medical history like metabolic disease or hormonal disorderly recent exposure to unprotected sex? You should ask your doctor for few investigations to confirm the diagnosis like Urine culture and sensitivity test and an ultrasound to see for prostate enlargementBlood for CBC and liver function test or urine test are advisable if it is a chronic issueMaintain good hygiene Wash and clean it with antiseptic solution or soapbox can apply antiseptic ointment externally. Use condom during sex if you are sexually active Hope this answers your question please feel free to ask for more clarificationThanks and regards"
        ],
        [
         "111992",
         "If you are a doctor, please answer the medical questions based on the patient's description.",
         "Hello, I was curious if it was possible for a man to have cystitis (spelling?) because I have symptoms of it. Also, I am noticing a pain in my penis when I lay down or sometimes when I sit down, mainly in the urthera area, it actually effects my sleeping, when I urinate this pain goes away temporarily, however, it does eventually return. Please help. Thanks.",
         "You may have urethritis or inflammation of the urethra (tube where the urine passes inside the penis). Do you have discharge in the opening? Pus cells coming out ? I would suggest doing an urinalysis do check for infection and thereby get the necessary antibiotic treatment. I hope I have succeeded in providing the information you were looking for. Please feel free to write back to me for any further clarifications at: http://www. .com/doctors/ . Best wishes."
        ],
        [
         "111993",
         "If you are a doctor, please answer the medical questions based on the patient's description.",
         "having pain in right hip area that radiates down to knee and calf. Good in AM pain increases through out the day. worse when walking, Squats do not affect it, if putting feet together and pressing knees to floor, right hip will only go about 3/4 of the way before it becomes to painful. I haven t had any injury to the area. I m about 40 lbs over weight.",
         "Pain radiated to hip, going down to knee & calf indicates pressure on sciatic nerve, the pressure seems to be mostly at be at sciatic notch (because of your specific symptoms of pain at particular movement of hip) or it may be higher up at spinal level (due to vertebral or disc problem) Excess weight always increases the suffering in lower extremity pain. You need CT scan/ MRI for diagnosis & an orthopedic surgeons' guidance for specific treatment."
        ],
        [
         "111994",
         "If you are a doctor, please answer the medical questions based on the patient's description.",
         "im 17 and i am still a virgin. i have a single, small pimple-like bump on the shaft of my penis, about 1/3 the way up from my scrotum. its an oval shape about 2 cm long and 1 cm wide. there is no discomfort of any kind. its been there for around a month and it started out very small. at first i though it was a pimple so i tried to pop it, but nothing came out and it hurt.so ive been washing that area very thoroughly when i shower. now when i squeeze it it doesnt hurt and stuff does come out. a drops worth of blood with a cloudy yellowish pus like subtance in it. ive been squeezing that stuff out once or twice a day and then washing it, but nothing has really changed. whats wrong and what can i do to get rid of it?",
         "Keep the area affected clean & wash it regularly. Some folliculitis goes away by themselves. Hair follicles get infected due to the clogged oil glands. Since pus is coming out, you need medical aid. You are suggested to visit ER, get physically examined, you need antibiotics or oral antifungals & antibacterial cream to apply in the area affected. Wear loose cotton clothes, avoid staying too long in sweated clothing, avoid harsh chemicals & maintain good hygiene. Hope I have answered your query. Let me know if I can assist you further. Take care ."
        ],
        [
         "111995",
         "If you are a doctor, please answer the medical questions based on the patient's description.",
         "sever apnea disorder, fell asleep at my desk, hit the top of head on the edge, . My elbow broke in an accident never heeld correctly and hit edge of desk as well. I don t remember the hits however in result my wrist- hand hangs down, I cant move my wrist at all, my finger still can wiggle, I have seen a Dr. was told it may take several months to return to normal, or sergary. This happened 2 weeks ago....... My question is: is there any home therapy I should be doing? Or what should I be doing or not be doing?",
         "Cellophane You for contacting . If you are unable to move your wrist then it needs an orthopedic evaluation. An orthopedic doctor will immobilize your wrist after having an X-ray of wrist to confirm the extent of dislocation. After he fixes the wrist, then you need to take care of the hand by not moving hand unnecessarily. Hope this answers your question. If you have additional questions or follow-up questions then please do not hesitate in writing to us. Wishing you good health."
        ],
        [
         "111996",
         "If you are a doctor, please answer the medical questions based on the patient's description.",
         "Hi doctor, I am a women of 56 yrs, I am allergic to cold, dust, smell etc.and for last several years I get cold and after I wash my hair I get cold at head and get pain in upper back and head gets heavy and also feel little breathing trouble.  I take Montek-LC tablets, is it good for me",
         "I would suggest you to test for absolute eosinophil count (AEC) in blood to confirm the presence of allergic reaction. Then you have to test for the most prevalent allergens like food, dust,pollen and mite, which helps to know the allergen which is causing all these symptoms. You can take Tab Monte LC, which is an excellent . After identifying the allergen causing these symptoms you can take immunotherapy, either subcutaneous immunotherapy (SUIT) or sublingual immunotherapy (SLIT). This will help to control the symptoms of the allergy. Thank you."
        ],
        [
         "111997",
         "If you are a doctor, please answer the medical questions based on the patient's description.",
         "My dad has been becoming more forgetful recently and has a family history of Alzheimer s Disease with a sister who had advanced stages when she died. I ve been researching Axona and was curious if it would have any effect on someone without a diagnosis of Alzheimer s or if it could even be prescribed in his case.",
         "None of the medications we use for Alzheimer's is preventative. They were not researched in that way nor are they indicated for prophylactic use. Axon is actually a medical food supplement and should not be used in people with metabolic issues such as diabetes as it can cause ethnic shock and coma in extreme cases. I would not recommend the use of Axon in anybody without a diagnosis of Alzheimer's dementia and only under the direction of an experienced physician due to its side effects which in some cases can be severe enough for people to go the ER. Good luck."
        ],
        [
         "111998",
         "If you are a doctor, please answer the medical questions based on the patient's description.",
         "how you doing dr. my name is angel I m a 53 yrs. old male/ 169 lbs. 5 6 in height, my problem with me I have lower back pain left and right, abdominal pain , constant urinating during day and night, constipated, I drinking 32oz of water a day, as it goes out I keep drinking water. pain continue around my waist area. I can t wear any clothing to sleep it painful when it ruffles touches my waist. it the mornings I cant button my pants up my waist is swollen. my body is weak and heavy. some slight dizzy, headache. no blood in stool or urine . unable to sleep.",
         "Investigations include routine hologram, RBS,LFT, RFT, Lipid profile, Urine RE/ME, Thyroid profile, Ultrasound of abdomen, Upper GI endoscopy, X-ray L/S spine AP/Lateral, Further investigations may be done if needed. There may be various causes for your problem like gastrointestinal, genitourinary or musculoskeletal causes. Treatment can be done after proper clinical examination and investigations reports. Get well footage Care ."
        ],
        [
         "111999",
         "If you are a doctor, please answer the medical questions based on the patient's description.",
         "Hi I am 28, 5\"10 and around 170lbs. I am taking a second course of omeprazole. i have been tested for H. Plori and this is negative. For a week or so (before second course of drugs) i have noticed some discomfort in my abdomen, near the centre but slightly on the right, between my belly button and bottom of the rib cage. It is mild discomfort mainly but feels almost like a bruise or ingrown hair feeling. and can be itchy",
         "It is hard to evaluate is this abdominal wall lesion, or it is caused by stomach issue. Gastritis can cause such sensation, and you should treat it and see will it improve. Symptoms that are experienced in such conditions are pain and tightness in upper stomach, bloating, breathing difficulties, heartburn, feeling of lump and sore in throat, gurgling sound in throat, fatigue and loss of appetite. Symptoms are aggravated after meal, long sitting, leaning forward, stress and anxiety. In the beginning this is treated by changing dietary habits. You should avoid alcohol, coffee,smoking, fats and fast food, carbonated . 1 hour after meal you should not sit or lay. Also lay with elevated upper body. If you are overweight you should do often exercise.Wish you good health."
        ],
        [
         "112000",
         "If you are a doctor, please answer the medical questions based on the patient's description.",
         "I was diagnosed with MS 25 years ago, The doctors working through hospital. The Royal Edinburgh. The hospital for people that connot cope with their lives. You`ll be very aware. I was given a tablet was very effective. I stopped smoking cannabis, and I became more aware of the things that was going on arround me. I cannot remember the name of the tablet name",
         "Today, there are a lot of effective . Tablets approved by FDA include dimethyl fumarate and trifluoride. Both these tablets came within the past 6-7 years. 25 years ago (1995), interferon injections were in use. For some, azathioprine tablets were used. Hope I have answered your question. Let me know if I can assist you further."
        ],
        [
         "112001",
         "If you are a doctor, please answer the medical questions based on the patient's description.",
         "my husband has a cyst on his neck got it lance 3rd june, went back into hospital got it drain on 3rd july and he is for surgery today as it has got very big, the opening is still there but there is a lump fill up again below where it was lance.he has a cough with this i just notice the last 5 weeks, they are going to do a biospy today on",
         "But after at all surgical therapy is the definitive treatment for all the lump. So you should be prepared for it. I will be happy to answer all your future concern. Thank you, Infectious disease specialist. Wish you the best health at ."
        ],
        [
         "112002",
         "If you are a doctor, please answer the medical questions based on the patient's description.",
         "I went in for a vaginal u/s being at 8 wk 1 day pregnant from my LMP and my Dr. said there was no heartbeat that baby measured at 6 wk 5 days 0.78 cm. Could it be that my calculation was off do to late implantation? Dr. said that I was going to miscarry and opted for D&C or pills to induce my labor. I told her I would like to wait another week and come back for another u/s hoping there would be some changes with the baby s heartbeat. Do I just having fallen hopes?",
         "If the sonogram performed was through the trans-vaginal route and if your sonographer is an experienced person, it is likely that you may have miscarried, provided you have regular cycles and did not miscalculate. When this is not so, it is better to wait and see. In such a scenario, serial titles of serum beta- are often done. Good progress of pregnancy is indicated by doubling of titles every 2-3 days. This should be coupled with follow-up sonograms. Wish you good health."
        ],
        [
         "112003",
         "If you are a doctor, please answer the medical questions based on the patient's description.",
         "I have been diagnosed with mono. I have not taken any of the penicillin related drugs that aften cause a rash. However, I have broken out into a horrible rash that started as red raised bumps and is now turning purple it is extremely itchy and I cannot seem to get relief. Is this normal with mono. I have been to a doctor and have been put on a steriod which is not helping",
         "Infectious Mononucleosis, in the majority of cases, presents with mild rash. But in distinct cases the rash tends to be more severe, and these cases require a steroid regimen. Steroid therapy might need a few days to provide a visible effect. If you feel that the rash doesn't improve despite the therapy I recommend you consult an infection diseases specialist. I hope this helped. Best wishes,"
        ],
        [
         "112004",
         "If you are a doctor, please answer the medical questions based on the patient's description.",
         "I have been diagnosed with severe osteoarthritis at the base of my right thumb and x rays show it in both hands to a lesser degree. It is now bone on bone there and I d like to know what I can do to stop or slow down the progression of it to the rest of my skeletal joints. Thanks! XXXX",
         "Which is widely available at online stores. Also, using hot water fermentation and improving the strength of the muscles of the forearm and hand is advised. We can only avoid the progression of the OA while keeping the muscle stronger to maintain the joint space. In case if we fail to do such then the grinding keeps happening and the inflammation doesn't come down. Hope I have answered your query. Let me know if I can assist you further. Jay In ."
        ],
        [
         "112005",
         "If you are a doctor, please answer the medical questions based on the patient's description.",
         "I have noticed a vein in my lip when i run my tongue over it. I can also notice a bump in my lip with my finger or tongue. When i stretch my lip out, i can see that vein there. I have noticed some pain with it. It is not blue or pulsing. I had jaw surgery a year ago and that area of my lip is still a little numb. I have also used chewing tobacco for about 4 years.",
         "I am . I studied your query and understood your health concerns about your Sister. Cause of lumps on the lip-You seem to have bump which needs to be confirmed and ruled out for any adenocarcinoma of the lip, due to tobacco. The vein to the lump indicates its vascularity. I would advise FNAC biopsy and excision biopsy later on by ER Surgeon. This is how you plan treatment with your doctor. Hope this would resolve your query. Write good review and hit thanks after reading this reply. Welcome for any further query to and to ME. Wishing you early recovery."
        ],
        [
         "112006",
         "If you are a doctor, please answer the medical questions based on the patient's description.",
         "Hi. For the past 2 weeks i have had a very bad cough from which i ve experienced wheezing . I also had what felt like a sinus infection as my nose is clogged on one side at night and i ve had a yellow mucus from my nose and from my cough. When i went to the doctor he didn t prescribe antibiotics but inhalers for my cough. While the inhalers have helped 1 week later i still have the cough, wheezing, sinus congestion and now one ear is plugged. Is there anything I can do? Should i go back to my doctor?",
         "You should take a good Antibiotic wit bination of Caroline like Azithromycin and Quinolone like Levofloxacin. You have to add Antihistamine like Levocetrizine with Montelukast and Anti-inflammatory . Steam inhalation will be helpful. If the symptoms still persist even after above treatment, consult your Doctor and get X-ray PNS and X-ray chest, and proceed accordingly. Wish you speedy recovery"
        ],
        [
         "112007",
         "If you are a doctor, please answer the medical questions based on the patient's description.",
         "My white blood cell counts have dropped to 2.9 from 3.7 six months ago. I had a needle biopsy on Friday. I have an enlarged lymph gland/node in my back for 6/7 years with no changes until this last year. It grew from 4.3 cm to 6.2 cm. I have no outward symptoms, no weight loss, no loss of appetite, no chills, fevers or night sweats. Do you have any thought of what might be cause of drop in white count, other than Lymphoma? RBC 4.60; hgb 14.1;hct 43.1;plat 190 down from 212; gran# 1.4 ( I don t know what that is it is marked as low on lab report). Thank you",
         "Both the values- 3.7 and 2.9 are on lower than the normal range, thus, the difference is not of much consequence. Low white blood cell count can occur in case of severe infection or bone marrow depression. A low granulocytes count is also a consequence of low white blood cell count. All other parameters-red blood cell count, hemoglobin, hematocrit and platelet counts are within normal limit. Thus, all other parameters are within normal limits. Consult your primary healthcare provider to find out the cause of low white blood cell count. Thanks and take care ."
        ],
        [
         "112008",
         "If you are a doctor, please answer the medical questions based on the patient's description.",
         "Hi ,I am 25 years old.I have suffered night fall nearly 1000 days .and have masturbate only 5-6 times till date.My skins are not moisturized as it should be given my age and my skin is not so thick now .Is it the reason for all those night falls.Please answer",
         "Degree understand your concerns went through your details. I suggest you not to worry much. Body produces semen whenever it is sexually aroused. Such semen will be kept inside the scrotum. That is a waste product and should be eliminated. Body has its own mechanism to eliminate the waste product. One way is through night fall. Night fall takes place if you do not masturbate or indulge in sexual activities. You can safely indulge in masturbation twice or thrice in a week to prevent night fall. For your information both masturbation and night fall are normal, and you have nothing to worry. Hope this answers your query. Available for further clarifications. Good luck."
        ],
        [
         "112009",
         "If you are a doctor, please answer the medical questions based on the patient's description.",
         "Hello sir,My report of ultrasound of abdomen is as follows. Right Kidney shows 5-6mm size calculus in lower calyx without hydronephrosis. Left Kidney shows multiple (3-4) calculi, largest is 7mm in lower calyx with mild hydronephrois and hydrourerter. Left vesicouretric junction shows a calcalus of size 9mm.IMPRESSION: left vuj calculus (9mm)& bilateral renal calculi.",
         "One of the stones from left kidney has . Vesicoureteric junction denotes the site where ureter joins with bladder. This has caused mild swelling in the left kidney due to obstruction. Otherwise, your kidneys are apparently normal. The stone in ureter usually causes pain in left flank with or without vomiting and burning urination. Usual treatment is an alpha blocker (e.g. Tab. Tamsulosin) and pain relieving medications. If the pain does not subside or kidney function deteriorates or infection sets in, then it needs to be removed immediately. Otherwise, the stone can be monitored and if it does not pass in 4 weeks then it can be removed using endoscopy (URS, ureterorenoscopy). After treatment for the ureteric stone, you need to be evaluated to find out the cause of stone formation. Kidney stones can be treated later, either medically or with flexible ureteroscopy and laser. I hope I have answered your query. If you need any clarification, please get back to me. Wish you a speedy recovery, Best regards,"
        ],
        [
         "112010",
         "If you are a doctor, please answer the medical questions based on the patient's description.",
         "my granddaughter was born August 18 her  bilirubin level reach 17 today. She has the light blanket on nearly 24 hours a day. She has another blood test tomorrow, What are the risks of it going up. Should it go down. She is eating, sleeping, urinating and pooping good. Please help.",
         "I am , I understand your concerns and I will try to help you as much as I can. Thisis so-called physiologic jaundice, and it should improve within 2 months after birth. There is no need to be worried. This is commonly seen and there are no consequences. Only if there is some liver disorder, which is rare, there may be treatment required. Otherwise, all she needs in sunlight for few days ADN it will be fine. I hope I have answered you query. If you have any further questions you can contact us in every time. Kindly regards. Wish you a good health. ."
        ],
        [
         "112011",
         "If you are a doctor, please answer the medical questions based on the patient's description.",
         "My left side, near the pelvic area, hurts. I always get sharp pain even when Im not doing anything, its been happening for 2 years now. Also, it seems to be getting darker around my mouth area and I dont know what the cause could be. My mom says its the spicy food. But Im having a hard time believing that. Another problem I seem to be having is, my eyes having been getting swollen. It recently stopped but happened out of nowhere. I assumed my body thought it was fighting an infection. Not sure, Im only 17. And last but not least, my chest (boobs) has been tender and hurts really bad when touched for a few months now. Im sorry to be a bother. But I honestly was just wondering. My doctor told me that the side thing should be ignored before I even finished talking. I dont think its just muscle growing. I think it could be something else. I just dont know what that thing is. And I seem be producing alot of sweat in my hands and feet. Not sure what to do other than Botox. Thank You.",
         "Vitamin E is a supplement which has a strong anti-inflammatory property and beneficial in managing pelvic pain Ginger tea: ginger supplies the body with anti-inflammatory compounds called gingerly. Gingerly help reduce swelling and pain effectively. To make ginger tea, grate about 1 inch of ginger and add to water. Boil for 10 minutes. You may also add cardamom powder; it is a good pain reliever too. Have this decoction daily, it will ease pain and discomfort rapidly. Stress management plays a crucial role in reducing chronic pelvic pain. Various yoga techniques can help reduce the pain triggered by stress. Regular exercising and medication is also associated with beneficial effects in the management of chronic pelvic pain. ."
        ],
        [
         "112012",
         "If you are a doctor, please answer the medical questions based on the patient's description.",
         "Post menopausal with blood in urine and lower to mid left back pain.feel swollen all over. Hx of kidney infections as a child and 2 episodes of really bad kidney infection, one 30 years ago and another about 15 years ago. I am 64 and in good health except for this. Is this another kidney infection? No problems with burning urination or pain in that area.",
         "As a Urologist, I can understand your anxiety. Blood from any orifice is abnormal. This could very well be an UTI.(infection).You'll need to get examined by a Urologist and do the basic tests like :1. Urine routine and culture.2. Blood routine, creatinine,RBS, LFT,and platelets.3. Ultrasound -PUB, with residual urine.4. A cystoscopy with/without a ACTIVE, may be done, after seeing reports. If you've any doubts, send a direct question in my name, with all the reports. . Manga."
        ],
        [
         "112013",
         "If you are a doctor, please answer the medical questions based on the patient's description.",
         "hi . i am 32 years old. we are trying for baby. i had my period on 9th jan 2014. usually i will get my period exactly at 30 days. but last month it was late by 37 days (we did nt try). this month also it is delayed by 37 days. till now i get my period. i am very much tired for the past 4 day. whther am i pregnant?",
         "In my opinion the delayed period in a sexually active woman gives a suspicion of pregnancy. It needs to be confirmed by doing a urine pregnancy test. Usually the urine pregnancy test gives accurate results if done a week after missed period. So you can consider doing a urine pregnancy test. The other symptoms of pregnancy like nausea, vomitings, increased urination, sore breasts start 2 weeks after missed period in case of pregnancy. So the delayed period, tiredness might give a suspicion of pregnancy but needs to be confirmed. Kindly consider doing a urine pregnancy test. Other tests to diagnose pregnancy are blood test and ultrasound. Blood test gives results well before the expected periods time i.e.., around 10 days after ovulation. Ultrasound helps in diagnosis of pregnancy around 5-6 weeks of pregnancy. Hope this helps. Best regards...."
        ],
        [
         "112014",
         "If you are a doctor, please answer the medical questions based on the patient's description.",
         "Hello how long does it take to stop coughing after champix i took them for 8days my noise started running like badly then I thought my asthma start I thought I had a allergic reaction. No it was Champix I rang my chemist,and they said Champix does not do that?",
         "You might be having an allergic cough, as a first-line management you can take over the counter available expectorant cough syrup and antihistamine for symptomatic relief. If symptoms persist, it is better to consult a physician and get evaluated. Hope I have answered your query. Let me know if I can assist you further. Take care"
        ]
       ],
       "shape": {
        "columns": 3,
        "rows": 200
       }
      },
      "text/html": [
       "<div>\n",
       "<style scoped>\n",
       "    .dataframe tbody tr th:only-of-type {\n",
       "        vertical-align: middle;\n",
       "    }\n",
       "\n",
       "    .dataframe tbody tr th {\n",
       "        vertical-align: top;\n",
       "    }\n",
       "\n",
       "    .dataframe thead th {\n",
       "        text-align: right;\n",
       "    }\n",
       "</style>\n",
       "<table border=\"1\" class=\"dataframe\">\n",
       "  <thead>\n",
       "    <tr style=\"text-align: right;\">\n",
       "      <th></th>\n",
       "      <th>instruction</th>\n",
       "      <th>input</th>\n",
       "      <th>output</th>\n",
       "    </tr>\n",
       "  </thead>\n",
       "  <tbody>\n",
       "    <tr>\n",
       "      <th>111965</th>\n",
       "      <td>If you are a doctor, please answer the medical...</td>\n",
       "      <td>I have problem wih my gall bladder. I have che...</td>\n",
       "      <td>I am , I understand your concerns and I will t...</td>\n",
       "    </tr>\n",
       "    <tr>\n",
       "      <th>111966</th>\n",
       "      <td>If you are a doctor, please answer the medical...</td>\n",
       "      <td>I have a question concerning my mother. She is...</td>\n",
       "      <td>On the other hand, if your mother was simply i...</td>\n",
       "    </tr>\n",
       "    <tr>\n",
       "      <th>111967</th>\n",
       "      <td>If you are a doctor, please answer the medical...</td>\n",
       "      <td>Hi, I have a lump about the size of pea right ...</td>\n",
       "      <td>For how long this lump is there.? Is it decrea...</td>\n",
       "    </tr>\n",
       "    <tr>\n",
       "      <th>111968</th>\n",
       "      <td>If you are a doctor, please answer the medical...</td>\n",
       "      <td>Hi, my mum has a persistent cough after having...</td>\n",
       "      <td>Spurs, by medical definition is a short pointe...</td>\n",
       "    </tr>\n",
       "    <tr>\n",
       "      <th>111969</th>\n",
       "      <td>If you are a doctor, please answer the medical...</td>\n",
       "      <td>I am having chest congestion for the past one ...</td>\n",
       "      <td>Maintain oral hygiene as sometime gum bleeding...</td>\n",
       "    </tr>\n",
       "    <tr>\n",
       "      <th>...</th>\n",
       "      <td>...</td>\n",
       "      <td>...</td>\n",
       "      <td>...</td>\n",
       "    </tr>\n",
       "    <tr>\n",
       "      <th>112160</th>\n",
       "      <td>If you are a doctor, please answer the medical...</td>\n",
       "      <td>im 25 years old ..i started using mtp kit on 5...</td>\n",
       "      <td>If you self-medicated for inducing the abortio...</td>\n",
       "    </tr>\n",
       "    <tr>\n",
       "      <th>112161</th>\n",
       "      <td>If you are a doctor, please answer the medical...</td>\n",
       "      <td>My 5 year old son has been coughing for a mont...</td>\n",
       "      <td>As you have mentioned in your history that you...</td>\n",
       "    </tr>\n",
       "    <tr>\n",
       "      <th>112162</th>\n",
       "      <td>If you are a doctor, please answer the medical...</td>\n",
       "      <td>My toes on right foot more than left are numb ...</td>\n",
       "      <td>The numbness and blue discoloration could both...</td>\n",
       "    </tr>\n",
       "    <tr>\n",
       "      <th>112163</th>\n",
       "      <td>If you are a doctor, please answer the medical...</td>\n",
       "      <td>I was diagnosis with pleurisy last Tuesday, an...</td>\n",
       "      <td>Treatment of pleurisy is depending on cause. T...</td>\n",
       "    </tr>\n",
       "    <tr>\n",
       "      <th>112164</th>\n",
       "      <td>If you are a doctor, please answer the medical...</td>\n",
       "      <td>Within the past few hours, my husband has deve...</td>\n",
       "      <td>The condition your husband is having is called...</td>\n",
       "    </tr>\n",
       "  </tbody>\n",
       "</table>\n",
       "<p>200 rows × 3 columns</p>\n",
       "</div>"
      ],
      "text/plain": [
       "                                              instruction  \\\n",
       "111965  If you are a doctor, please answer the medical...   \n",
       "111966  If you are a doctor, please answer the medical...   \n",
       "111967  If you are a doctor, please answer the medical...   \n",
       "111968  If you are a doctor, please answer the medical...   \n",
       "111969  If you are a doctor, please answer the medical...   \n",
       "...                                                   ...   \n",
       "112160  If you are a doctor, please answer the medical...   \n",
       "112161  If you are a doctor, please answer the medical...   \n",
       "112162  If you are a doctor, please answer the medical...   \n",
       "112163  If you are a doctor, please answer the medical...   \n",
       "112164  If you are a doctor, please answer the medical...   \n",
       "\n",
       "                                                    input  \\\n",
       "111965  I have problem wih my gall bladder. I have che...   \n",
       "111966  I have a question concerning my mother. She is...   \n",
       "111967  Hi, I have a lump about the size of pea right ...   \n",
       "111968  Hi, my mum has a persistent cough after having...   \n",
       "111969  I am having chest congestion for the past one ...   \n",
       "...                                                   ...   \n",
       "112160  im 25 years old ..i started using mtp kit on 5...   \n",
       "112161  My 5 year old son has been coughing for a mont...   \n",
       "112162  My toes on right foot more than left are numb ...   \n",
       "112163  I was diagnosis with pleurisy last Tuesday, an...   \n",
       "112164  Within the past few hours, my husband has deve...   \n",
       "\n",
       "                                                   output  \n",
       "111965  I am , I understand your concerns and I will t...  \n",
       "111966  On the other hand, if your mother was simply i...  \n",
       "111967  For how long this lump is there.? Is it decrea...  \n",
       "111968  Spurs, by medical definition is a short pointe...  \n",
       "111969  Maintain oral hygiene as sometime gum bleeding...  \n",
       "...                                                   ...  \n",
       "112160  If you self-medicated for inducing the abortio...  \n",
       "112161  As you have mentioned in your history that you...  \n",
       "112162  The numbness and blue discoloration could both...  \n",
       "112163  Treatment of pleurisy is depending on cause. T...  \n",
       "112164  The condition your husband is having is called...  \n",
       "\n",
       "[200 rows x 3 columns]"
      ]
     },
     "execution_count": 14,
     "metadata": {},
     "output_type": "execute_result"
    }
   ],
   "source": [
    "df_cleaned.tail(200)"
   ]
  },
  {
   "cell_type": "code",
   "execution_count": 15,
   "id": "f07cba2c",
   "metadata": {},
   "outputs": [],
   "source": [
    "output_path = r\"..\\data\\processed\\HealthCareMagic-100k.json\"\n",
    "df_cleaned.to_json(output_path)"
   ]
  }
 ],
 "metadata": {
  "kernelspec": {
   "display_name": ".venv",
   "language": "python",
   "name": "python3"
  },
  "language_info": {
   "codemirror_mode": {
    "name": "ipython",
    "version": 3
   },
   "file_extension": ".py",
   "mimetype": "text/x-python",
   "name": "python",
   "nbconvert_exporter": "python",
   "pygments_lexer": "ipython3",
   "version": "3.12.9"
  }
 },
 "nbformat": 4,
 "nbformat_minor": 5
}
